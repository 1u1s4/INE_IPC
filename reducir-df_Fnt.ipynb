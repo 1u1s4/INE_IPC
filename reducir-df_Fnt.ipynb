{
 "cells": [
  {
   "cell_type": "code",
   "execution_count": 1,
   "metadata": {},
   "outputs": [],
   "source": [
    "from ineipc.sqline import sqlINE\n",
    "d = sqlINE(2023, 6, 1)"
   ]
  },
  {
   "cell_type": "code",
   "execution_count": 3,
   "metadata": {},
   "outputs": [
    {
     "name": "stdout",
     "output_type": "stream",
     "text": [
      "<class 'pandas.core.frame.DataFrame'>\n",
      "RangeIndex: 710041 entries, 0 to 710040\n",
      "Data columns (total 23 columns):\n",
      " #   Column          Non-Null Count   Dtype  \n",
      "---  ------          --------------   -----  \n",
      " 0   Canasta Básica  710041 non-null  object \n",
      " 1   PerAno          710041 non-null  int64  \n",
      " 2   PerMes          710041 non-null  int64  \n",
      " 3   PerSem          710041 non-null  int64  \n",
      " 4   ArtCod          710041 non-null  object \n",
      " 5   BolNum          710041 non-null  int64  \n",
      " 6   ArtPac          710041 non-null  float64\n",
      " 7   ArtPhi          710041 non-null  float64\n",
      " 8   UreCan          710041 non-null  float64\n",
      " 9   UraChi          710041 non-null  float64\n",
      " 10  UmeCan          710041 non-null  float64\n",
      " 11  ArtCR           710041 non-null  object \n",
      " 12  ArtSI           710041 non-null  object \n",
      " 13  RegCod          710041 non-null  int64  \n",
      " 14  ArtNOm          710041 non-null  object \n",
      " 15  ArtPrc          710041 non-null  object \n",
      " 16  TfnCod          710041 non-null  object \n",
      " 17  TfnNom          710041 non-null  object \n",
      " 18  FntCod          710041 non-null  int64  \n",
      " 19  FntNom          710041 non-null  object \n",
      " 20  FntDir          710041 non-null  object \n",
      " 21  DepCod          710041 non-null  int64  \n",
      " 22  MunCod          710041 non-null  int64  \n",
      "dtypes: float64(5), int64(8), object(10)\n",
      "memory usage: 124.6+ MB\n"
     ]
    }
   ],
   "source": [
    "d.df_Fnt.info()"
   ]
  },
  {
   "cell_type": "code",
   "execution_count": null,
   "metadata": {},
   "outputs": [],
   "source": []
  }
 ],
 "metadata": {
  "kernelspec": {
   "display_name": "Python 3",
   "language": "python",
   "name": "python3"
  },
  "language_info": {
   "codemirror_mode": {
    "name": "ipython",
    "version": 3
   },
   "file_extension": ".py",
   "mimetype": "text/x-python",
   "name": "python",
   "nbconvert_exporter": "python",
   "pygments_lexer": "ipython3",
   "version": "3.11.3"
  },
  "orig_nbformat": 4
 },
 "nbformat": 4,
 "nbformat_minor": 2
}
