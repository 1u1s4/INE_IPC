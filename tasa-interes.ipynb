{
 "cells": [
  {
   "cell_type": "code",
   "execution_count": 1,
   "metadata": {},
   "outputs": [],
   "source": [
    "import requests\n",
    "import pandas as pd"
   ]
  },
  {
   "cell_type": "code",
   "execution_count": 3,
   "metadata": {},
   "outputs": [],
   "source": [
    "# descarga de datos\n",
    "DATA_URL = \"https://banguat.gob.gt/sites/default/files/banguat/imm/imm04.xls\"\n",
    "with open('tasa_interes.xls', 'wb') as f:\n",
    "    r = requests.get(DATA_URL, allow_redirects=True)\n",
    "    f.write(r.content)\n",
    "    f.close()"
   ]
  },
  {
   "cell_type": "code",
   "execution_count": 2,
   "metadata": {},
   "outputs": [
    {
     "name": "stdout",
     "output_type": "stream",
     "text": [
      "0     0.1192\n",
      "1     0.1192\n",
      "2     0.1195\n",
      "3     0.1193\n",
      "4     0.1194\n",
      "5     0.1198\n",
      "6     0.1198\n",
      "7     0.1202\n",
      "8     0.1194\n",
      "9     0.1184\n",
      "10    0.1183\n",
      "11    0.1183\n",
      "12       NaN\n",
      "Name: 2022, dtype: float64\n"
     ]
    }
   ],
   "source": [
    "# 1996  - col 2\n",
    "# enero - fil 5 \n",
    "df = pd.read_excel('tasa_interes.xls', header=4)\n",
    "print(df[2022])"
   ]
  }
 ],
 "metadata": {
  "kernelspec": {
   "display_name": "Python 3",
   "language": "python",
   "name": "python3"
  },
  "language_info": {
   "codemirror_mode": {
    "name": "ipython",
    "version": 3
   },
   "file_extension": ".py",
   "mimetype": "text/x-python",
   "name": "python",
   "nbconvert_exporter": "python",
   "pygments_lexer": "ipython3",
   "version": "3.10.6"
  },
  "orig_nbformat": 4,
  "vscode": {
   "interpreter": {
    "hash": "549303601b1024b9e300ce5f29c6b94d02e3162278eab942e2a1b6577abca927"
   }
  }
 },
 "nbformat": 4,
 "nbformat_minor": 2
}
