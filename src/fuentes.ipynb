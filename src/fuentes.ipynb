{
 "cells": [
  {
   "cell_type": "code",
   "execution_count": 1,
   "metadata": {},
   "outputs": [
    {
     "ename": "OperationalError",
     "evalue": "('08001', '[08001] [Microsoft][ODBC Driver 17 for SQL Server]Named Pipes Provider: Could not open a connection to SQL Server [53].  (53) (SQLDriverConnect); [08001] [Microsoft][ODBC Driver 17 for SQL Server]Login timeout expired (0); [08001] [Microsoft][ODBC Driver 17 for SQL Server]A network-related or instance-specific error has occurred while establishing a connection to SQL Server. Server is not found or not accessible. Check if instance name is correct and if SQL Server is configured to allow remote connections. For more information see SQL Server Books Online. (53)')",
     "output_type": "error",
     "traceback": [
      "\u001b[1;31m---------------------------------------------------------------------------\u001b[0m",
      "\u001b[1;31mOperationalError\u001b[0m                          Traceback (most recent call last)",
      "\u001b[1;32mc:\\Users\\laalvarado\\Documents\\GitHub\\INE_IPC\\src\\fuentes.ipynb Celda 1\u001b[0m in \u001b[0;36m<cell line: 2>\u001b[1;34m()\u001b[0m\n\u001b[0;32m      <a href='vscode-notebook-cell:/c%3A/Users/laalvarado/Documents/GitHub/INE_IPC/src/fuentes.ipynb#W0sZmlsZQ%3D%3D?line=0'>1</a>\u001b[0m \u001b[39mfrom\u001b[39;00m \u001b[39mdatosipc\u001b[39;00m \u001b[39mimport\u001b[39;00m datosIPC\n\u001b[1;32m----> <a href='vscode-notebook-cell:/c%3A/Users/laalvarado/Documents/GitHub/INE_IPC/src/fuentes.ipynb#W0sZmlsZQ%3D%3D?line=1'>2</a>\u001b[0m dipc \u001b[39m=\u001b[39m datosIPC(\u001b[39m2022\u001b[39;49m, \u001b[39m12\u001b[39;49m,\u001b[39mTrue\u001b[39;49;00m)\n",
      "File \u001b[1;32mc:\\Users\\laalvarado\\Documents\\GitHub\\INE_IPC\\src\\datosipc.py:19\u001b[0m, in \u001b[0;36mdatosIPC.__init__\u001b[1;34m(self, anio, mes, QdbAux)\u001b[0m\n\u001b[0;32m     17\u001b[0m \u001b[39mself\u001b[39m\u001b[39m.\u001b[39mmes \u001b[39m=\u001b[39m mes\n\u001b[0;32m     18\u001b[0m \u001b[39mself\u001b[39m\u001b[39m.\u001b[39manio \u001b[39m=\u001b[39m anio\n\u001b[1;32m---> 19\u001b[0m \u001b[39mself\u001b[39m\u001b[39m.\u001b[39mSQL \u001b[39m=\u001b[39m sqlINE(anio, mes, QdbAux)\n\u001b[0;32m     20\u001b[0m \u001b[39mself\u001b[39m\u001b[39m.\u001b[39mDescriptor \u001b[39m=\u001b[39m Descriptor(anio, mes)\n",
      "File \u001b[1;32mc:\\Users\\laalvarado\\Documents\\GitHub\\INE_IPC\\src\\sqline.py:19\u001b[0m, in \u001b[0;36msqlINE.__init__\u001b[1;34m(self, anio, mes, QdbAux)\u001b[0m\n\u001b[0;32m     17\u001b[0m USERNAME \u001b[39m=\u001b[39m \u001b[39m'\u001b[39m\u001b[39mlmdelgado\u001b[39m\u001b[39m'\u001b[39m\n\u001b[0;32m     18\u001b[0m PASSWORD \u001b[39m=\u001b[39m \u001b[39m'\u001b[39m\u001b[39mDel/*2022\u001b[39m\u001b[39m'\u001b[39m\n\u001b[1;32m---> 19\u001b[0m \u001b[39mself\u001b[39m\u001b[39m.\u001b[39m__conexion \u001b[39m=\u001b[39m pyodbc\u001b[39m.\u001b[39;49mconnect(\n\u001b[0;32m     20\u001b[0m     \u001b[39m'\u001b[39;49m\u001b[39mDRIVER=\u001b[39;49m\u001b[39m{\u001b[39;49m\u001b[39mODBC Driver 17 for SQL Server}\u001b[39;49m\u001b[39m'\u001b[39;49m\n\u001b[0;32m     21\u001b[0m     \u001b[39m+\u001b[39;49m \u001b[39mf\u001b[39;49m\u001b[39m'\u001b[39;49m\u001b[39m;SERVER=\u001b[39;49m\u001b[39m{\u001b[39;49;00mSERVER\u001b[39m}\u001b[39;49;00m\u001b[39m;DATABASE=\u001b[39;49m\u001b[39m{\u001b[39;49;00mDATABASE\u001b[39m}\u001b[39;49;00m\u001b[39m;UID=\u001b[39;49m\u001b[39m{\u001b[39;49;00mUSERNAME\u001b[39m}\u001b[39;49;00m\u001b[39m;PWD=\u001b[39;49m\u001b[39m{\u001b[39;49;00mPASSWORD\u001b[39m}\u001b[39;49;00m\u001b[39m'\u001b[39;49m\n\u001b[0;32m     22\u001b[0m )\n\u001b[0;32m     23\u001b[0m \u001b[39m# nombre de divisiones\u001b[39;00m\n\u001b[0;32m     24\u001b[0m abr_diviciones \u001b[39m=\u001b[39m {\n\u001b[0;32m     25\u001b[0m \u001b[39m'\u001b[39m\u001b[39mAlimentos Y Bebidas No Alcohólicas\u001b[39m\u001b[39m'\u001b[39m: \u001b[39m'\u001b[39m\u001b[39mAlimentos\u001b[39m\u001b[39m'\u001b[39m,\n\u001b[0;32m     26\u001b[0m \u001b[39m'\u001b[39m\u001b[39mBebidas Alcohólicas Y Tabaco\u001b[39m\u001b[39m'\u001b[39m:\u001b[39m'\u001b[39m\u001b[39mBebidas Alcohólicas\u001b[39m\u001b[39m'\u001b[39m,\n\u001b[1;32m   (...)\u001b[0m\n\u001b[0;32m     36\u001b[0m \u001b[39m'\u001b[39m\u001b[39mBienes Y Servicios Diversos\u001b[39m\u001b[39m'\u001b[39m:\u001b[39m'\u001b[39m\u001b[39mBienes diversos\u001b[39m\u001b[39m'\u001b[39m\n\u001b[0;32m     37\u001b[0m }\n",
      "\u001b[1;31mOperationalError\u001b[0m: ('08001', '[08001] [Microsoft][ODBC Driver 17 for SQL Server]Named Pipes Provider: Could not open a connection to SQL Server [53].  (53) (SQLDriverConnect); [08001] [Microsoft][ODBC Driver 17 for SQL Server]Login timeout expired (0); [08001] [Microsoft][ODBC Driver 17 for SQL Server]A network-related or instance-specific error has occurred while establishing a connection to SQL Server. Server is not found or not accessible. Check if instance name is correct and if SQL Server is configured to allow remote connections. For more information see SQL Server Books Online. (53)')"
     ]
    }
   ],
   "source": [
    "from datosipc import datosIPC\n",
    "dipc = datosIPC(2022, 12,True)"
   ]
  },
  {
   "cell_type": "code",
   "execution_count": null,
   "metadata": {},
   "outputs": [],
   "source": [
    "SQL = dipc.SQL"
   ]
  },
  {
   "cell_type": "code",
   "execution_count": null,
   "metadata": {},
   "outputs": [],
   "source": [
    "df_fuentes = SQL.df_Fnt"
   ]
  },
  {
   "cell_type": "code",
   "execution_count": 4,
   "metadata": {},
   "outputs": [
    {
     "data": {
      "text/plain": [
       "([(1, 733),\n",
       "  (2, 627),\n",
       "  (3, 933),\n",
       "  (4, 762),\n",
       "  (5, 779),\n",
       "  (6, 655),\n",
       "  (7, 671),\n",
       "  (8, 586)],\n",
       " 'En el mes de diciembre 2022 la región\\\\footnote{Guatemala se encuentra organizada en 8 regiones; La región I o Metropolitana está conformada por el departamento de Guatemala, la región II o Norte por Alta Verapaz y Baja Verapaz, la región III o Nororiental por Chiquimula, El Progreso, Izabal y Zacapa, la región IV o Suroriental por Jutiapa, Jalapa y Santa Rosa, la región V o Central por Chimaltenango, Sacatepéquez y Escuintla, la región VI o Suroccidental por Quetzaltenango, Retalhuleu, San Marcos, Suchitepéquez, Sololá y Totonicapán, la región VII o Noroccidental por Huehuetenango y Quiché y la región VIII por Petén.} III fue donde más fuentes fueron consultadas con un total de 933 y la región VIII fue donde menos fuentes fueron consultadas con un total de 586.')"
      ]
     },
     "execution_count": 4,
     "metadata": {},
     "output_type": "execute_result"
    }
   ],
   "source": [
    "dipc.cobertura_precios()"
   ]
  },
  {
   "cell_type": "code",
   "execution_count": null,
   "metadata": {},
   "outputs": [],
   "source": [
    "SQL.serie_fuentes_precios(True)"
   ]
  },
  {
   "cell_type": "code",
   "execution_count": null,
   "metadata": {},
   "outputs": [],
   "source": [
    "import pyodbc\n",
    "import pandas as pd\n",
    "DATABASE = 'IPC2010_RN'\n",
    "SERVER = '10.0.0.3'\n",
    "USERNAME = 'lmdelgado'\n",
    "PASSWORD = 'Del/*2022'\n",
    "conexion= pyodbc.connect(\n",
    "    'DRIVER={ODBC Driver 17 for SQL Server}'\n",
    "    + f';SERVER=INEVSQL01\\A;DATABASE=master;UID=lmdelgado;PWD=Del/*2022'\n",
    ")"
   ]
  },
  {
   "cell_type": "code",
   "execution_count": null,
   "metadata": {},
   "outputs": [],
   "source": [
    "with open(\"query_fuentes.txt\", \"r\") as f:\n",
    "    query = f.read()\n",
    "query = query.replace(\"param_anio\", \"2022\")\n",
    "df_f = pd.read_sql(query, conexion)\n",
    "df_f.info()"
   ]
  },
  {
   "cell_type": "code",
   "execution_count": null,
   "metadata": {},
   "outputs": [],
   "source": [
    "df_f.columns"
   ]
  },
  {
   "cell_type": "code",
   "execution_count": null,
   "metadata": {},
   "outputs": [],
   "source": [
    "a = [('Ene-2022', 34588), ('Feb-2022', 31471), ('Mar-2022', 34062), ('Abr-2022', 33671), ('May-2022', 31534), ('Jun-2022', 34242), ('Jul-2022', 34851), ('Ago-2022', 32351), ('Sep-2022', 35369), ('Oct-2022', 35887), ('Nov-2022', 38320), ('Dic-2022', 41729), ('Ene-2023', 44812)]\n",
    "for i in range(1,13):\n",
    "    print(len(df_f.query(f\"PerAno==2022 and PerMes=={i}\")), a[i-1][1])"
   ]
  },
  {
   "cell_type": "code",
   "execution_count": null,
   "metadata": {},
   "outputs": [],
   "source": [
    "for i in range(1,13):\n",
    "    new_df = df_fuentes.query(f\"PerAno==2022 and PerMes=={i}\")\n",
    "    print(new_df.drop_duplicates(subset=[\"DepCod\", \"MunCod\", \"FntCod\"]).shape[0])"
   ]
  },
  {
   "cell_type": "code",
   "execution_count": null,
   "metadata": {},
   "outputs": [],
   "source": []
  }
 ],
 "metadata": {
  "kernelspec": {
   "display_name": "Python 3.10.6 64-bit",
   "language": "python",
   "name": "python3"
  },
  "language_info": {
   "codemirror_mode": {
    "name": "ipython",
    "version": 3
   },
   "file_extension": ".py",
   "mimetype": "text/x-python",
   "name": "python",
   "nbconvert_exporter": "python",
   "pygments_lexer": "ipython3",
   "version": "3.10.6"
  },
  "orig_nbformat": 4,
  "vscode": {
   "interpreter": {
    "hash": "549303601b1024b9e300ce5f29c6b94d02e3162278eab942e2a1b6577abca927"
   }
  }
 },
 "nbformat": 4,
 "nbformat_minor": 2
}
