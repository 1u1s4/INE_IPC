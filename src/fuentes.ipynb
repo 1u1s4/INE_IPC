{
 "cells": [
  {
   "cell_type": "code",
   "execution_count": 1,
   "metadata": {},
   "outputs": [],
   "source": [
    "from datosipc import datosIPC\n",
    "dipc = datosIPC(2022, 12,True)"
   ]
  },
  {
   "cell_type": "code",
   "execution_count": 4,
   "metadata": {},
   "outputs": [],
   "source": [
    "SQL = dipc.SQL"
   ]
  },
  {
   "cell_type": "code",
   "execution_count": 6,
   "metadata": {},
   "outputs": [],
   "source": [
    "df_fuentes = SQL.df_Fnt"
   ]
  },
  {
   "cell_type": "code",
   "execution_count": 2,
   "metadata": {},
   "outputs": [
    {
     "data": {
      "text/plain": [
       "([('Supermercados', 24.066768819482935),\n",
       "  ('Tiendas no Especializadas', 18.557037133635447),\n",
       "  ('Mercados', 17.132331366348254),\n",
       "  ('Almacenes', 13.640661167802302),\n",
       "  ('Carnicerias', 7.13982981775503)],\n",
       " 'En el mes de diciembre el tipo de fuente más consultado fue supermercados (24.07%), y el segundo más consultado fue tiendas no especializadas (18.56%).')"
      ]
     },
     "execution_count": 2,
     "metadata": {},
     "output_type": "execute_result"
    }
   ],
   "source": [
    "dipc.desagregacion_fuentes()"
   ]
  },
  {
   "cell_type": "code",
   "execution_count": 16,
   "metadata": {},
   "outputs": [
    {
     "data": {
      "text/plain": [
       "2190"
      ]
     },
     "execution_count": 16,
     "metadata": {},
     "output_type": "execute_result"
    }
   ],
   "source": [
    "df_fuentes.query('PerMes==12 and TfnCod==\"01\" and PerAno==2022').shape[0]"
   ]
  },
  {
   "cell_type": "code",
   "execution_count": null,
   "metadata": {},
   "outputs": [],
   "source": [
    "SQL.serie_fuentes_precios(True)"
   ]
  },
  {
   "cell_type": "code",
   "execution_count": null,
   "metadata": {},
   "outputs": [],
   "source": [
    "import pyodbc\n",
    "import pandas as pd\n",
    "DATABASE = 'IPC2010_RN'\n",
    "SERVER = '10.0.0.3'\n",
    "USERNAME = 'lmdelgado'\n",
    "PASSWORD = 'Del/*2022'\n",
    "conexion= pyodbc.connect(\n",
    "    'DRIVER={ODBC Driver 17 for SQL Server}'\n",
    "    + f';SERVER=INEVSQL01\\A;DATABASE=master;UID=lmdelgado;PWD=Del/*2022'\n",
    ")"
   ]
  },
  {
   "cell_type": "code",
   "execution_count": null,
   "metadata": {},
   "outputs": [],
   "source": [
    "with open(\"query_fuentes.txt\", \"r\") as f:\n",
    "    query = f.read()\n",
    "query = query.replace(\"param_anio\", \"2022\")\n",
    "df_f = pd.read_sql(query, conexion)\n",
    "df_f.info()"
   ]
  },
  {
   "cell_type": "code",
   "execution_count": null,
   "metadata": {},
   "outputs": [],
   "source": [
    "df_f.columns"
   ]
  },
  {
   "cell_type": "code",
   "execution_count": null,
   "metadata": {},
   "outputs": [],
   "source": [
    "a = [('Ene-2022', 34588), ('Feb-2022', 31471), ('Mar-2022', 34062), ('Abr-2022', 33671), ('May-2022', 31534), ('Jun-2022', 34242), ('Jul-2022', 34851), ('Ago-2022', 32351), ('Sep-2022', 35369), ('Oct-2022', 35887), ('Nov-2022', 38320), ('Dic-2022', 41729), ('Ene-2023', 44812)]\n",
    "for i in range(1,13):\n",
    "    print(len(df_f.query(f\"PerAno==2022 and PerMes=={i}\")), a[i-1][1])"
   ]
  },
  {
   "cell_type": "code",
   "execution_count": null,
   "metadata": {},
   "outputs": [],
   "source": [
    "for i in range(1,13):\n",
    "    new_df = df_fuentes.query(f\"PerAno==2022 and PerMes=={i}\")\n",
    "    print(new_df.drop_duplicates(subset=[\"DepCod\", \"MunCod\", \"FntCod\"]).shape[0])"
   ]
  },
  {
   "cell_type": "code",
   "execution_count": null,
   "metadata": {},
   "outputs": [],
   "source": []
  }
 ],
 "metadata": {
  "kernelspec": {
   "display_name": "Python 3.10.6 64-bit",
   "language": "python",
   "name": "python3"
  },
  "language_info": {
   "codemirror_mode": {
    "name": "ipython",
    "version": 3
   },
   "file_extension": ".py",
   "mimetype": "text/x-python",
   "name": "python",
   "nbconvert_exporter": "python",
   "pygments_lexer": "ipython3",
   "version": "3.10.6"
  },
  "orig_nbformat": 4,
  "vscode": {
   "interpreter": {
    "hash": "549303601b1024b9e300ce5f29c6b94d02e3162278eab942e2a1b6577abca927"
   }
  }
 },
 "nbformat": 4,
 "nbformat_minor": 2
}
