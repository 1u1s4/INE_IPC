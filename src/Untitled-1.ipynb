{
 "cells": [
  {
   "cell_type": "code",
   "execution_count": 1,
   "metadata": {},
   "outputs": [],
   "source": [
    "from sqline import sqlINE\n",
    "p = sqlINE(2023,1, True)"
   ]
  },
  {
   "cell_type": "code",
   "execution_count": null,
   "metadata": {},
   "outputs": [],
   "source": [
    "df=p.df_GbaPon\n",
    "df[df['RegCod']==1]"
   ]
  },
  {
   "cell_type": "code",
   "execution_count": null,
   "metadata": {},
   "outputs": [],
   "source": [
    "df=p.df_GbaInd\n",
    "df.query('RegCod==2 and PerMes==1 and PerAno==2023 and PerSem==3 and GbaCod==621102')"
   ]
  },
  {
   "cell_type": "code",
   "execution_count": 5,
   "metadata": {},
   "outputs": [
    {
     "name": "stdout",
     "output_type": "stream",
     "text": [
      "0.3769335837463972 0.3769334363827439\n",
      "0.015483912002633993 9.56802671920329\n",
      "1.3170142004193863 -46.50570393730479\n",
      "0.11880351113338072 -0.5801610447638377\n",
      "-0.16243293308692008 -43.62689926710683\n",
      "0.14802868680967585 2.7764822681122023\n",
      "0.6660129994376041 2.5691052068807534\n",
      "1.1760014465653557 0.4851374067154365\n",
      "-0.16772732286880476 0.24111915716484913\n"
     ]
    }
   ],
   "source": [
    "for reg in range(0,9):\n",
    "    a = [i[0] for i in p.incidencia_gasto_basico(reg)]\n",
    "    print(p.inflacion_mensual(2023,1,reg), sum(a))    "
   ]
  },
  {
   "cell_type": "code",
   "execution_count": null,
   "metadata": {},
   "outputs": [],
   "source": [
    "p.calcular_IPC(2023, 1, 3)"
   ]
  },
  {
   "cell_type": "code",
   "execution_count": null,
   "metadata": {},
   "outputs": [],
   "source": []
  }
 ],
 "metadata": {
  "kernelspec": {
   "display_name": "Python 3.10.6 64-bit",
   "language": "python",
   "name": "python3"
  },
  "language_info": {
   "codemirror_mode": {
    "name": "ipython",
    "version": 3
   },
   "file_extension": ".py",
   "mimetype": "text/x-python",
   "name": "python",
   "nbconvert_exporter": "python",
   "pygments_lexer": "ipython3",
   "version": "3.10.6"
  },
  "orig_nbformat": 4,
  "vscode": {
   "interpreter": {
    "hash": "549303601b1024b9e300ce5f29c6b94d02e3162278eab942e2a1b6577abca927"
   }
  }
 },
 "nbformat": 4,
 "nbformat_minor": 2
}
