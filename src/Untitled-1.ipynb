{
 "cells": [
  {
   "cell_type": "code",
   "execution_count": 4,
   "metadata": {},
   "outputs": [],
   "source": [
    "from sqline import sqlINE\n",
    "p = sqlINE(2023,1, True)"
   ]
  },
  {
   "cell_type": "code",
   "execution_count": 5,
   "metadata": {},
   "outputs": [],
   "source": [
    "ponderaciones=p.df_GbaPon"
   ]
  },
  {
   "cell_type": "code",
   "execution_count": 6,
   "metadata": {},
   "outputs": [],
   "source": [
    "gba = p.df_GbaInfo[\"GbaCod\"].to_list()"
   ]
  },
  {
   "cell_type": "code",
   "execution_count": null,
   "metadata": {},
   "outputs": [],
   "source": [
    "df=p.df_GbaInd\n",
    "df.query('RegCod==2 and PerMes==1 and PerAno==2023 and PerSem==3 and GbaCod==621102')"
   ]
  },
  {
   "cell_type": "code",
   "execution_count": 29,
   "metadata": {},
   "outputs": [
    {
     "name": "stdout",
     "output_type": "stream",
     "text": [
      "0.3769335837463972 0.3769334363827439\n",
      "0.015483912002633993 9.56802671920329\n",
      "1.3170142004193863 -46.50570393730479\n",
      "0.11880351113338072 -0.5801610447638377\n",
      "-0.16243293308692008 -43.62689926710683\n",
      "0.14802868680967585 2.7764822681122023\n",
      "0.6660129994376041 2.5691052068807534\n",
      "1.1760014465653557 0.4851374067154365\n",
      "-0.16772732286880476 0.24111915716484913\n"
     ]
    }
   ],
   "source": [
    "for reg in range(0,9):\n",
    "    a = [i[0] for i in p.incidencia_gasto_basico(reg)]\n",
    "    print(p.inflacion_mensual(2023,1,reg), sum(a))    "
   ]
  },
  {
   "cell_type": "code",
   "execution_count": null,
   "metadata": {},
   "outputs": [],
   "source": [
    "p.calcular_IPC(2023, 1, 3)"
   ]
  },
  {
   "cell_type": "code",
   "execution_count": 23,
   "metadata": {},
   "outputs": [
    {
     "name": "stdout",
     "output_type": "stream",
     "text": [
      "<class 'pandas.core.frame.DataFrame'>\n",
      "Int64Index: 3796 entries, 0 to 3795\n",
      "Data columns (total 13 columns):\n",
      " #   Column       Non-Null Count  Dtype  \n",
      "---  ------       --------------  -----  \n",
      " 0   Año          3796 non-null   int64  \n",
      " 1   Mes          3796 non-null   object \n",
      " 2   Código       3796 non-null   int64  \n",
      " 3   Descripción  3796 non-null   object \n",
      " 4   Rep.         3796 non-null   float64\n",
      " 5   Reg. I       3796 non-null   float64\n",
      " 6   Reg. II      3796 non-null   float64\n",
      " 7   Reg. III     3796 non-null   float64\n",
      " 8   Reg. IV      3796 non-null   float64\n",
      " 9   Reg. V       3796 non-null   float64\n",
      " 10  Reg. VI      3796 non-null   float64\n",
      " 11  Reg. VII     3796 non-null   float64\n",
      " 12  Reg. VIII    3796 non-null   float64\n",
      "dtypes: float64(9), int64(2), object(2)\n",
      "memory usage: 415.2+ KB\n"
     ]
    }
   ],
   "source": [
    "import pandas as pd\n",
    "from descriptoripc import Descriptor\n",
    "desc = Descriptor(2023, 1)\n",
    "df_1 = pd.read_excel(\"IPC POR GASTO BÁSICO - ENERO 2023.xls\")\n",
    "df_2 = pd.read_excel(\"IPC POR GASTO BÁSICO-ENERO-DICIEMBRE 2022.xls\")\n",
    "df_3 = pd.merge(df_1, df_2, how='outer')\n",
    "df_3.info()"
   ]
  },
  {
   "cell_type": "code",
   "execution_count": 30,
   "metadata": {},
   "outputs": [
    {
     "name": "stdout",
     "output_type": "stream",
     "text": [
      "(([('Productos de tortillería', 0.13526096590909176), ('Frutas de estación', 0.052608500468603644), ('Pan', 0.0436312412136833), ('Güisquil', 0.02848210285848182), ('Otras legumbres y hortalizas', 0.021571555178069298)], 'Los cinco principales gastos básicos que registran la mayor incidencia positiva mensual se encuentran: Productos de tortillería (0.14%), Frutas de estación (0.05%), Pan (0.04%), Güisquil (0.03%) y Otras legumbres y hortalizas (0.02%).'), ([('Frijol', -0.320721473758201), ('Servicio de transporte aéreo', -0.1180749133083411), ('Cebolla', -0.04592698687910029), ('Culantro', -0.03153172680412361), ('Gasolina superior', -0.030045909090909102)], 'Los cinco principales gastos básicos que registran la mayor incidencia negativa mensual se encuentran: Frijol (-0.32%), Servicio de transporte aéreo (-0.12%), Cebolla (-0.05%), Culantro (-0.03%) y Gasolina superior (-0.03%).'))\n"
     ]
    }
   ],
   "source": [
    "reg = \"Reg. VIII\"\n",
    "rg = 8\n",
    "a = []\n",
    "for codigo in gba:\n",
    "    pon = ponderaciones.query(f\"RegCod=={rg} and GbaCod=={codigo}\")[\"GbaPon\"].iloc[0]\n",
    "    nombre = df_3.query(f'Año==2023 and Mes==\"Enero\" and Código=={codigo}')[\"Descripción\"].iloc[0]\n",
    "    indice_actual = df_3.query(f'Año==2023 and Mes==\"Enero\" and Código=={codigo}')[reg].iloc[0]\n",
    "    indice_anterior = df_3.query(f'Año==2022 and Mes==\"Diciembre\" and Código=={codigo}')[reg].iloc[0]\n",
    "    ipc_actual = df_3.query(f'Descripción==\"Índice general\" and Año==2023 and Mes==\"Enero\"')[reg].iloc[0]\n",
    "    ipc_anterior = df_3.query(f'Descripción==\"Índice general\" and Año==2022 and Mes==\"Diciembre\"')[reg].iloc[0]\n",
    "    a.append((nombre.strip(), pon*(indice_actual - indice_anterior)/ipc_anterior))\n",
    "positivas = sorted(a, reverse=True, key= lambda x: x[1])[0:5]\n",
    "negativas = sorted(a, key= lambda x: x[1])[0:5]\n",
    "desc_pos = desc.incidencias_gba(positivas)\n",
    "desc_neg = desc.incidencias_gba(negativas, False)\n",
    "print(((positivas, desc_pos),(negativas, desc_neg)))"
   ]
  },
  {
   "cell_type": "code",
   "execution_count": 1,
   "metadata": {},
   "outputs": [],
   "source": [
    "from datosipc import datosIPC\n",
    "pp = datosIPC(2023, 1, True)"
   ]
  },
  {
   "cell_type": "code",
   "execution_count": 2,
   "metadata": {},
   "outputs": [
    {
     "data": {
      "text/plain": [
       "([('Tomate', 0.29225115170046867),\n",
       "  ('Papa', 0.21026296529072871),\n",
       "  ('Maíz', 0.05738489818868894),\n",
       "  ('Almuerzo Consumido Fuera Del Hogar', 0.040835978744101734),\n",
       "  ('Pan', 0.0368128632016548)],\n",
       " 'Los cinco principales gastos básicos que registran la mayor incidencia positiva mensual se encuentran: Tomate (0.29%), Papa (0.21%), Maíz (0.06%), Almuerzo Consumido Fuera Del Hogar (0.04%) y Pan (0.04%).')"
      ]
     },
     "execution_count": 2,
     "metadata": {},
     "output_type": "execute_result"
    }
   ],
   "source": [
    "pp.incidencias_gba(0, True)"
   ]
  }
 ],
 "metadata": {
  "kernelspec": {
   "display_name": "Python 3.10.6 64-bit",
   "language": "python",
   "name": "python3"
  },
  "language_info": {
   "codemirror_mode": {
    "name": "ipython",
    "version": 3
   },
   "file_extension": ".py",
   "mimetype": "text/x-python",
   "name": "python",
   "nbconvert_exporter": "python",
   "pygments_lexer": "ipython3",
   "version": "3.10.6"
  },
  "orig_nbformat": 4,
  "vscode": {
   "interpreter": {
    "hash": "549303601b1024b9e300ce5f29c6b94d02e3162278eab942e2a1b6577abca927"
   }
  }
 },
 "nbformat": 4,
 "nbformat_minor": 2
}
