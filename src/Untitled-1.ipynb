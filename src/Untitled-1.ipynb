{
 "cells": [
  {
   "cell_type": "code",
   "execution_count": 4,
   "metadata": {},
   "outputs": [],
   "source": [
    "from sqline import sqlINE\n",
    "p = sqlINE(2023,1, True)"
   ]
  },
  {
   "cell_type": "code",
   "execution_count": 5,
   "metadata": {},
   "outputs": [],
   "source": [
    "ponderaciones=p.df_GbaPon"
   ]
  },
  {
   "cell_type": "code",
   "execution_count": 6,
   "metadata": {},
   "outputs": [],
   "source": [
    "gba = p.df_GbaInfo[\"GbaCod\"].to_list()"
   ]
  },
  {
   "cell_type": "code",
   "execution_count": null,
   "metadata": {},
   "outputs": [],
   "source": [
    "df=p.df_GbaInd\n",
    "df.query('RegCod==2 and PerMes==1 and PerAno==2023 and PerSem==3 and GbaCod==621102')"
   ]
  },
  {
   "cell_type": "code",
   "execution_count": 29,
   "metadata": {},
   "outputs": [
    {
     "name": "stdout",
     "output_type": "stream",
     "text": [
      "0.3769335837463972 0.3769334363827439\n",
      "0.015483912002633993 9.56802671920329\n",
      "1.3170142004193863 -46.50570393730479\n",
      "0.11880351113338072 -0.5801610447638377\n",
      "-0.16243293308692008 -43.62689926710683\n",
      "0.14802868680967585 2.7764822681122023\n",
      "0.6660129994376041 2.5691052068807534\n",
      "1.1760014465653557 0.4851374067154365\n",
      "-0.16772732286880476 0.24111915716484913\n"
     ]
    }
   ],
   "source": [
    "for reg in range(0,9):\n",
    "    a = [i[0] for i in p.incidencia_gasto_basico(reg)]\n",
    "    print(p.inflacion_mensual(2023,1,reg), sum(a))    "
   ]
  },
  {
   "cell_type": "code",
   "execution_count": null,
   "metadata": {},
   "outputs": [],
   "source": [
    "p.calcular_IPC(2023, 1, 3)"
   ]
  },
  {
   "cell_type": "code",
   "execution_count": 7,
   "metadata": {},
   "outputs": [
    {
     "name": "stdout",
     "output_type": "stream",
     "text": [
      "<class 'pandas.core.frame.DataFrame'>\n",
      "Int64Index: 3796 entries, 0 to 3795\n",
      "Data columns (total 13 columns):\n",
      " #   Column       Non-Null Count  Dtype  \n",
      "---  ------       --------------  -----  \n",
      " 0   Año          3796 non-null   int64  \n",
      " 1   Mes          3796 non-null   object \n",
      " 2   Código       3796 non-null   int64  \n",
      " 3   Descripción  3796 non-null   object \n",
      " 4   Rep.         3796 non-null   float64\n",
      " 5   Reg. I       3796 non-null   float64\n",
      " 6   Reg. II      3796 non-null   float64\n",
      " 7   Reg. III     3796 non-null   float64\n",
      " 8   Reg. IV      3796 non-null   float64\n",
      " 9   Reg. V       3796 non-null   float64\n",
      " 10  Reg. VI      3796 non-null   float64\n",
      " 11  Reg. VII     3796 non-null   float64\n",
      " 12  Reg. VIII    3796 non-null   float64\n",
      "dtypes: float64(9), int64(2), object(2)\n",
      "memory usage: 415.2+ KB\n"
     ]
    }
   ],
   "source": [
    "import pandas as pd\n",
    "df_1 = pd.read_excel(\"IPC POR GASTO BÁSICO - ENERO 2023.xls\")\n",
    "df_2 = pd.read_excel(\"IPC POR GASTO BÁSICO-ENERO-DICIEMBRE 2022.xls\")\n",
    "df_3 = pd.merge(df_1, df_2, how='outer')\n",
    "df_3.info()"
   ]
  },
  {
   "cell_type": "code",
   "execution_count": 10,
   "metadata": {},
   "outputs": [],
   "source": [
    "reg = \"Reg. I\"\n",
    "rg = 1\n",
    "a = []\n",
    "for codigo in gba:\n",
    "    pon = ponderaciones.query(f\"RegCod=={rg} and GbaCod=={codigo}\")[\"GbaPon\"].iloc[0]\n",
    "    nombre = df_3.query(f'Año==2023 and Mes==\"Enero\" and Código=={codigo}')[\"Descripción\"].iloc[0]\n",
    "    indice_actual = df_3.query(f'Año==2023 and Mes==\"Enero\" and Código=={codigo}')[reg].iloc[0]\n",
    "    indice_anterior = df_3.query(f'Año==2022 and Mes==\"Diciembre\" and Código=={codigo}')[reg].iloc[0]\n",
    "    ipc_actual = df_3.query(f'Descripción==\"Índice general\" and Año==2023 and Mes==\"Enero\"')[reg].iloc[0]\n",
    "    ipc_anterior = df_3.query(f'Descripción==\"Índice general\" and Año==2022 and Mes==\"Diciembre\"')[reg].iloc[0]\n",
    "    a.append((nombre.strip(), pon*(indice_actual - indice_anterior)/ipc_anterior))\n",
    "positivas = sorted(a, reverse=True, key= lambda x: x[1])[0:5]\n",
    "negativas = sorted(a, key= lambda x: x[1])[0:5]"
   ]
  },
  {
   "cell_type": "code",
   "execution_count": 12,
   "metadata": {},
   "outputs": [],
   "source": [
    "from descriptoripc import Descriptor\n",
    "desc = Descriptor(2023, 1)\n",
    "desc_pos = desc.incidencias_gba(positivas)\n",
    "desc_neg = desc.incidencias_gba(negativas, False)"
   ]
  },
  {
   "cell_type": "code",
   "execution_count": 13,
   "metadata": {},
   "outputs": [
    {
     "name": "stdout",
     "output_type": "stream",
     "text": [
      "([('Pan', 0.10400178117048355), ('Tomate', 0.1037912722646311), ('Almuerzo consumido fuera del hogar', 0.10260808594854406), ('Frutas de estación', 0.038641622137404595), ('Plátano', 0.03165736146451794)], 'Los cinco principales gastos básicos que registran la mayor incidencia positiva mensual se encuentran: Pan (0.10%), Tomate (0.10%), Almuerzo consumido fuera del hogar (0.10%), Frutas de estación (0.04%) y Plátano (0.03%).')\n",
      "([('Servicio de transporte aéreo', -0.5839277692960135), ('Gasolina superior', -0.030106966355668636), ('Cebolla', -0.023669578739044413), ('Ejotes', -0.016791694232400345), ('Productos de tortillería', -0.011517189708792702)], 'Los cinco principales gastos básicos que registran la mayor incidencia negativa mensual se encuentran: Servicio de transporte aéreo (-0.58%), Gasolina superior (-0.03%), Cebolla (-0.02%), Ejotes (-0.02%) y Productos de tortillería (-0.01%).')\n"
     ]
    }
   ],
   "source": [
    "print((positivas, desc_pos))\n",
    "print((negativas, desc_neg))"
   ]
  },
  {
   "cell_type": "code",
   "execution_count": 1,
   "metadata": {},
   "outputs": [],
   "source": [
    "from datosipc import datosIPC\n",
    "pp = datosIPC(2023, 1, True)"
   ]
  },
  {
   "cell_type": "code",
   "execution_count": 2,
   "metadata": {},
   "outputs": [
    {
     "data": {
      "text/plain": [
       "([('Tomate', 0.29225115170046867),\n",
       "  ('Papa', 0.21026296529072871),\n",
       "  ('Maíz', 0.05738489818868894),\n",
       "  ('Almuerzo Consumido Fuera Del Hogar', 0.040835978744101734),\n",
       "  ('Pan', 0.0368128632016548)],\n",
       " 'Los cinco principales gastos básicos que registran la mayor incidencia positiva mensual se encuentran: Tomate (0.29%), Papa (0.21%), Maíz (0.06%), Almuerzo Consumido Fuera Del Hogar (0.04%) y Pan (0.04%).')"
      ]
     },
     "execution_count": 2,
     "metadata": {},
     "output_type": "execute_result"
    }
   ],
   "source": [
    "pp.incidencias_gba(0, True)"
   ]
  }
 ],
 "metadata": {
  "kernelspec": {
   "display_name": "Python 3.10.6 64-bit",
   "language": "python",
   "name": "python3"
  },
  "language_info": {
   "codemirror_mode": {
    "name": "ipython",
    "version": 3
   },
   "file_extension": ".py",
   "mimetype": "text/x-python",
   "name": "python",
   "nbconvert_exporter": "python",
   "pygments_lexer": "ipython3",
   "version": "3.10.6"
  },
  "orig_nbformat": 4,
  "vscode": {
   "interpreter": {
    "hash": "549303601b1024b9e300ce5f29c6b94d02e3162278eab942e2a1b6577abca927"
   }
  }
 },
 "nbformat": 4,
 "nbformat_minor": 2
}
