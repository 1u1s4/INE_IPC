{
 "cells": [
  {
   "cell_type": "code",
   "execution_count": null,
   "metadata": {},
   "outputs": [],
   "source": [
    "from sqline import sqlINE\n",
    "p = sqlINE(2023,1)\n",
    "ponderaciones=p.df_GbaPon\n",
    "gba = p.df_GbaInfo[\"GbaCod\"].to_list()\n",
    "df=p.df_GbaInd"
   ]
  },
  {
   "cell_type": "code",
   "execution_count": null,
   "metadata": {},
   "outputs": [],
   "source": [
    "for reg in range(0,9):\n",
    "    a = [i[0] for i in p.incidencia_gasto_basico(reg)]\n",
    "    print(p.inflacion_mensual(2023,1,reg), sum(a))    "
   ]
  },
  {
   "cell_type": "code",
   "execution_count": null,
   "metadata": {},
   "outputs": [],
   "source": [
    "p.calcular_IPC(2023, 1, 3)"
   ]
  },
  {
   "cell_type": "code",
   "execution_count": null,
   "metadata": {},
   "outputs": [],
   "source": [
    "import pandas as pd\n",
    "from descriptoripc import Descriptor\n",
    "desc = Descriptor(2023, 1)\n",
    "df_1 = pd.read_excel(\"IPC POR GASTO BÁSICO - ENERO 2023.xls\")\n",
    "df_2 = pd.read_excel(\"IPC POR GASTO BÁSICO-ENERO-DICIEMBRE 2022.xls\")\n",
    "df_3 = pd.merge(df_1, df_2, how='outer')\n",
    "df_3.info()"
   ]
  },
  {
   "cell_type": "code",
   "execution_count": null,
   "metadata": {},
   "outputs": [],
   "source": [
    "reg = \"Reg. VIII\"\n",
    "rg = 8\n",
    "a = []\n",
    "for codigo in gba:\n",
    "    pon = ponderaciones.query(f\"RegCod=={rg} and GbaCod=={codigo}\")[\"GbaPon\"].iloc[0]\n",
    "    nombre = df_3.query(f'Año==2023 and Mes==\"Enero\" and Código=={codigo}')[\"Descripción\"].iloc[0]\n",
    "    indice_actual = df_3.query(f'Año==2023 and Mes==\"Enero\" and Código=={codigo}')[reg].iloc[0]\n",
    "    indice_anterior = df_3.query(f'Año==2022 and Mes==\"Diciembre\" and Código=={codigo}')[reg].iloc[0]\n",
    "    ipc_actual = df_3.query(f'Descripción==\"Índice general\" and Año==2023 and Mes==\"Enero\"')[reg].iloc[0]\n",
    "    ipc_anterior = df_3.query(f'Descripción==\"Índice general\" and Año==2022 and Mes==\"Diciembre\"')[reg].iloc[0]\n",
    "    a.append((nombre.strip(), pon*(indice_actual - indice_anterior)/ipc_anterior))\n",
    "positivas = sorted(a, reverse=True, key= lambda x: x[1])[0:5]\n",
    "negativas = sorted(a, key= lambda x: x[1])[0:5]\n",
    "desc_pos = desc.incidencias_gba(positivas)\n",
    "desc_neg = desc.incidencias_gba(negativas, False)\n",
    "print(((positivas, desc_pos),(negativas, desc_neg)))"
   ]
  },
  {
   "cell_type": "code",
   "execution_count": null,
   "metadata": {},
   "outputs": [],
   "source": [
    "from datosipc import datosIPC\n",
    "pp = datosIPC(2023, 1, True)"
   ]
  },
  {
   "cell_type": "code",
   "execution_count": null,
   "metadata": {},
   "outputs": [],
   "source": [
    "pp.incidencias_gba(0, True)"
   ]
  },
  {
   "cell_type": "code",
   "execution_count": null,
   "metadata": {},
   "outputs": [],
   "source": [
    "for gasto in gba:\n",
    "    ind_1 = df.query(f'RegCod==1 and PerMes==1 and PerAno==2023 and PerSem==3 and GbaCod=={gasto}')[\"GbaInd\"].iloc[0]\n",
    "    ind_2 = df_3.query(f'Mes==\"Enero\" and Año==2023 and Código=={gasto}')[\"Reg. I\"].iloc[0]\n",
    "    ind_1 = f\"{ind_1:.2f}\"\n",
    "    ind_2 = f\"{ind_2:.2f}\"\n",
    "    print(ind_1 == ind_2)"
   ]
  },
  {
   "cell_type": "code",
   "execution_count": null,
   "metadata": {},
   "outputs": [],
   "source": [
    "sum(ponderaciones.query(\"RegCod==8\").GbaPon.to_list())"
   ]
  },
  {
   "cell_type": "code",
   "execution_count": null,
   "metadata": {},
   "outputs": [],
   "source": [
    "df.query('RegCod==1 and PerMes==1 and PerAno==2023 and GbaCod==111101')"
   ]
  }
 ],
 "metadata": {
  "kernelspec": {
   "display_name": "Python 3.10.6 64-bit",
   "language": "python",
   "name": "python3"
  },
  "language_info": {
   "codemirror_mode": {
    "name": "ipython",
    "version": 3
   },
   "file_extension": ".py",
   "mimetype": "text/x-python",
   "name": "python",
   "nbconvert_exporter": "python",
   "pygments_lexer": "ipython3",
   "version": "3.10.6"
  },
  "orig_nbformat": 4,
  "vscode": {
   "interpreter": {
    "hash": "549303601b1024b9e300ce5f29c6b94d02e3162278eab942e2a1b6577abca927"
   }
  }
 },
 "nbformat": 4,
 "nbformat_minor": 2
}
