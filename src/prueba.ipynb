{
 "cells": [
  {
   "cell_type": "code",
   "execution_count": null,
   "metadata": {},
   "outputs": [],
   "source": [
    "from datosipc import datosIPC"
   ]
  },
  {
   "cell_type": "code",
   "execution_count": 7,
   "metadata": {},
   "outputs": [],
   "source": [
    "p = datosIPC(2023, 2)"
   ]
  },
  {
   "cell_type": "code",
   "execution_count": 34,
   "metadata": {},
   "outputs": [],
   "source": [
    "a = p.incidencias_divisiones(7)[0]"
   ]
  },
  {
   "cell_type": "code",
   "execution_count": 35,
   "metadata": {},
   "outputs": [
    {
     "data": {
      "text/plain": [
       "(('Alimentos', 2.514239140610889),\n",
       " ('Vestuario', 0.04094684516408276),\n",
       " ('Vivienda', 0.037417492572216444),\n",
       " ('Transporte', 0.012013943667943441),\n",
       " ('Salud', 0.009269142424709019),\n",
       " ('Restaurantes', 0.0025834780265497907),\n",
       " ('Comunicaciones', 0.0005903031852605297),\n",
       " ('Bebidas Alcohólicas', 0.0001967611352723112),\n",
       " ('Educación', 0.0),\n",
       " ('Bienes diversos', -6.881286986899434e-05),\n",
       " ('Muebles', -0.005603746238717766),\n",
       " ('Recreación', -0.15626984120424764))"
      ]
     },
     "execution_count": 35,
     "metadata": {},
     "output_type": "execute_result"
    }
   ],
   "source": [
    "a"
   ]
  },
  {
   "cell_type": "code",
   "execution_count": 36,
   "metadata": {},
   "outputs": [],
   "source": [
    "A = [i[1] for i in a]"
   ]
  },
  {
   "cell_type": "code",
   "execution_count": 37,
   "metadata": {},
   "outputs": [
    {
     "data": {
      "text/plain": [
       "2.455314706474089"
      ]
     },
     "execution_count": 37,
     "metadata": {},
     "output_type": "execute_result"
    }
   ],
   "source": [
    "sum(A)"
   ]
  },
  {
   "cell_type": "code",
   "execution_count": 39,
   "metadata": {},
   "outputs": [
    {
     "data": {
      "text/plain": [
       "2.45531470647411"
      ]
     },
     "execution_count": 39,
     "metadata": {},
     "output_type": "execute_result"
    }
   ],
   "source": [
    "p.SQL.inflacion_mensual(2023, 2, 7)"
   ]
  }
 ],
 "metadata": {
  "kernelspec": {
   "display_name": "Python 3",
   "language": "python",
   "name": "python3"
  },
  "language_info": {
   "codemirror_mode": {
    "name": "ipython",
    "version": 3
   },
   "file_extension": ".py",
   "mimetype": "text/x-python",
   "name": "python",
   "nbconvert_exporter": "python",
   "pygments_lexer": "ipython3",
   "version": "3.10.6"
  },
  "orig_nbformat": 4,
  "vscode": {
   "interpreter": {
    "hash": "549303601b1024b9e300ce5f29c6b94d02e3162278eab942e2a1b6577abca927"
   }
  }
 },
 "nbformat": 4,
 "nbformat_minor": 2
}
