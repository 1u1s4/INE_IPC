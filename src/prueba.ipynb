{
 "cells": [
  {
   "cell_type": "code",
   "execution_count": null,
   "metadata": {},
   "outputs": [],
   "source": [
    "from sqline import sqlINE\n",
    "p = sqlINE(2023, 3, dbBackup=True)"
   ]
  },
  {
   "cell_type": "code",
   "execution_count": 1,
   "metadata": {},
   "outputs": [],
   "source": [
    "from datosipc import datosIPC\n",
    "p = datosIPC(2023, 3, dbBackup=True)"
   ]
  },
  {
   "cell_type": "code",
   "execution_count": 2,
   "metadata": {},
   "outputs": [
    {
     "data": {
      "text/plain": [
       "((('Feb-2022', 7.871063897739283),\n",
       "  ('Mar-2022', 8.542455554842432),\n",
       "  ('Abr-2022', 8.258629340882372),\n",
       "  ('May-2022', 8.581511543676523),\n",
       "  ('Jun-2022', 9.059757964784154),\n",
       "  ('Jul-2022', 8.52481474562552),\n",
       "  ('Ago-2022', 8.262692503116241),\n",
       "  ('Sep-2022', 8.20166964383362),\n",
       "  ('Oct-2022', 7.7454273308049215),\n",
       "  ('Nov-2022', 7.110322794191726),\n",
       "  ('Dic-2022', 6.4544013314108195),\n",
       "  ('Ene-2023', 6.410146968856267),\n",
       "  ('Feb-2023', 6.035613077866597)),\n",
       " 'El Índice de Precios al Consumidor en los Estados Unidos de América\\\\footnote{Para mayor información sobre el indice de precios al consumidor de los Estados Unidos, visite \\\\url{http://www.bls.gov/cpi}.} registró una variación interanual al mes de febrero 2023 de 6.0%. En febrero 2022 la variación interanual se ubicó en 7.9%, por lo que este indicador se desaceleró 1.8 puntos porcentuales en el último año.')"
      ]
     },
     "execution_count": 2,
     "metadata": {},
     "output_type": "execute_result"
    }
   ],
   "source": [
    "p.ipc_usa()"
   ]
  },
  {
   "cell_type": "code",
   "execution_count": null,
   "metadata": {},
   "outputs": [],
   "source": [
    "p.incidencias_gba(0, 1)"
   ]
  },
  {
   "cell_type": "code",
   "execution_count": null,
   "metadata": {},
   "outputs": [],
   "source": [
    "p.inflacion_CA_RD_MEX()\n"
   ]
  },
  {
   "cell_type": "code",
   "execution_count": null,
   "metadata": {},
   "outputs": [],
   "source": [
    "from sqline import sqlINE"
   ]
  },
  {
   "cell_type": "code",
   "execution_count": null,
   "metadata": {},
   "outputs": [],
   "source": [
    "p = sqlINE(2023, 2, dbBackup=1)"
   ]
  },
  {
   "cell_type": "code",
   "execution_count": null,
   "metadata": {},
   "outputs": [],
   "source": [
    "datos = p.serie_historica(\"interanual\")\n",
    "datos"
   ]
  },
  {
   "cell_type": "code",
   "execution_count": null,
   "metadata": {},
   "outputs": [],
   "source": [
    "max(datos, key=lambda x: x[1])"
   ]
  },
  {
   "cell_type": "code",
   "execution_count": null,
   "metadata": {},
   "outputs": [],
   "source": [
    "min(datos, key=lambda x: x[1])"
   ]
  },
  {
   "cell_type": "code",
   "execution_count": null,
   "metadata": {},
   "outputs": [],
   "source": [
    "import pandas as pd"
   ]
  },
  {
   "cell_type": "code",
   "execution_count": null,
   "metadata": {},
   "outputs": [],
   "source": [
    "df1 = pd.DataFrame(p.serie_historica(\"interanual\"), columns=[\"Fecha\", \"interanual\"])"
   ]
  },
  {
   "cell_type": "code",
   "execution_count": null,
   "metadata": {},
   "outputs": [],
   "source": [
    "df2 = pd.DataFrame(p.serie_historica(\"intermensual\"), columns=[\"Fecha\", \"intermensual\"])"
   ]
  },
  {
   "cell_type": "code",
   "execution_count": null,
   "metadata": {},
   "outputs": [],
   "source": [
    "df = pd.merge(df1, df2, on=\"Fecha\", how=\"right\").fillna(\"-\")\n",
    "df"
   ]
  },
  {
   "cell_type": "code",
   "execution_count": null,
   "metadata": {},
   "outputs": [],
   "source": [
    "df.to_latex(\"tabla_prueba.tex\", index=False)"
   ]
  },
  {
   "cell_type": "code",
   "execution_count": null,
   "metadata": {},
   "outputs": [],
   "source": [
    "with open('tabla_prueba.tex', 'w') as f:\n",
    "    f.write(df.style.hide_index().set_caption('Tabla de prueba').set_table_styles([{'selector': 'caption', 'props': [('text-align', 'center')]}]).to_latex())"
   ]
  },
  {
   "cell_type": "code",
   "execution_count": null,
   "metadata": {},
   "outputs": [],
   "source": [
    "with open('tabla_prueba.tex', 'w') as f:\n",
    "    f.write(df.to_latex(index=False, longtable=True, caption='Tabla de prueba', header=[\"Fecha\", \"Mensual\", \"Anual\"], \n",
    "                        column_format='|c|c|c|', escape=False).replace('\\\\hline', '\\\\cline{1-3}').replace('\\\\endfirsthead', '\\\\hline\\n\\\\endhead\\n'))"
   ]
  },
  {
   "cell_type": "code",
   "execution_count": null,
   "metadata": {},
   "outputs": [],
   "source": [
    "with open('tabla_prueba.tex', 'w') as f:\n",
    "    f.write(df.to_latex(index=False, longtable=True, caption='Tabla de prueba', \n",
    "                        column_format='|c|c|c|', escape=False, \n",
    "                        header=['Fecha', 'Interanual', 'Intermensual']).replace('\\\\hline', '\\\\cline{1-3}').replace('\\\\endfirsthead', '\\\\hline\\n\\\\endhead\\n'))"
   ]
  },
  {
   "cell_type": "code",
   "execution_count": null,
   "metadata": {},
   "outputs": [],
   "source": [
    "def export_to_longtable(df, filename, caption, column_format='|c|c|', header=True):\n",
    "    with open(filename, 'w+') as f:\n",
    "        if header:\n",
    "            f.write(df.head(1).to_latex(index=False, longtable=False, column_format=column_format, escape=False, header=header).replace('\\\\hline', '\\\\cline{1-2}').replace('\\\\endfirsthead', '\\\\hline\\n\\\\endhead\\n'))\n",
    "        f.write(df.to_latex(index=False, longtable=True, column_format=column_format, escape=False, header=False).replace('\\\\hline', '\\\\cline{1-2}').replace('\\\\endfirsthead', '\\\\hline\\n\\\\endhead\\n'))\n",
    "        f.seek(0)\n",
    "        contents = f.read()\n",
    "        f.seek(0)\n",
    "        f.write('\\\\begin{longtable}{' + column_format + '}\\n')\n",
    "        f.write('\\\\caption{' + caption + '} \\\\\\\\\\n')\n",
    "        f.write('\\\\hline\\n')\n",
    "        f.write(contents)\n",
    "        f.write('\\\\end{longtable}\\n')\n",
    "\n",
    "    \n",
    "export_to_longtable(df, 'tabla_prueba.tex', 'Tabla de prueba')"
   ]
  },
  {
   "cell_type": "code",
   "execution_count": null,
   "metadata": {},
   "outputs": [],
   "source": [
    "def export_to_longtable(df, filename, caption, column_format='c'*len(df.columns), header=True):\n",
    "    \"\"\"\n",
    "    Exporta un DataFrame a un archivo .tex en formato longtable.\n",
    "    \n",
    "    Parameters:\n",
    "    df (pandas.DataFrame): DataFrame a exportar.\n",
    "    filename (str): Nombre del archivo .tex a crear.\n",
    "    caption (str): Título de la tabla.\n",
    "    column_format (str, optional): Formato de las columnas. Por defecto es 'c'*len(df.columns).\n",
    "    header (bool, optional): Si se incluye la primera fila como encabezado. Por defecto es True.\n",
    "    \"\"\"\n",
    "    with open(filename, 'w') as f:\n",
    "        f.write('\\\\begin{longtable}{' + column_format + '}\\n')\n",
    "        if header:\n",
    "            f.write('\\\\caption{' + caption + '}\\\\label{' + filename[:-4] + '-label}\\\\tabularnewline\\n')\n",
    "            f.write('\\\\toprule\\n')\n",
    "            for col in df.columns:\n",
    "                f.write('\\\\textbf{' + col + '}')\n",
    "                if col != df.columns[-1]:\n",
    "                    f.write(' & ')\n",
    "                else:\n",
    "                    f.write(' \\\\\\\\\\n')\n",
    "            f.write('\\\\midrule\\n')\n",
    "            f.write('\\\\endfirsthead\\n')\n",
    "            f.write('\\\\multicolumn{' + str(len(df.columns)) + '}{c}{{Tabla \\\\thetable{} continuación de la página anterior.}} \\\\\\\\\\n')\n",
    "            f.write('\\\\toprule\\n')\n",
    "            for col in df.columns:\n",
    "                f.write('\\\\textbf{' + col + '}')\n",
    "                if col != df.columns[-1]:\n",
    "                    f.write(' & ')\n",
    "                else:\n",
    "                    f.write(' \\\\\\\\\\n')\n",
    "            f.write('\\\\midrule\\n')\n",
    "            f.write('\\\\endhead\\n')\n",
    "        else:\n",
    "            f.write('\\\\caption{' + caption + '}\\\\label{' + filename[:-4] + '-label}\\\\tabularnewline\\n')\n",
    "            f.write('\\\\toprule\\n')\n",
    "        for i, row in df.iterrows():\n",
    "            for j, val in enumerate(row):\n",
    "                if pd.isna(val):\n",
    "                    val = '-'\n",
    "                if isinstance(val, float):\n",
    "                    f.write('{:.6f}'.format(val))\n",
    "                else:\n",
    "                    f.write(str(val))\n",
    "                if j != len(row) - 1:\n",
    "                    f.write(' & ')\n",
    "                else:\n",
    "                    f.write(' \\\\\\\\\\n')\n",
    "            f.write('\\\\midrule\\n')\n",
    "        f.write('\\\\end{longtable}\\n')\n"
   ]
  },
  {
   "cell_type": "code",
   "execution_count": null,
   "metadata": {},
   "outputs": [],
   "source": [
    "def export_to_longtable(df, filename, caption, column_format='c'*len(df.columns), header=True, decimals=2):\n",
    "    \"\"\"\n",
    "    Exporta un dataframe a un longtable de LaTeX en un archivo.\n",
    "    \n",
    "    Parameters:\n",
    "    df (pandas.DataFrame): DataFrame a exportar.\n",
    "    filename (str): Nombre del archivo a guardar.\n",
    "    caption (str): Leyenda de la tabla.\n",
    "    column_format (str): Cadena que describe el formato de las columnas.\n",
    "    header (bool): Si True, muestra el encabezado de la tabla.\n",
    "    decimals (int): Cantidad de decimales para los números. Si el valor no es numérico, se muestra tal cual.\n",
    "    \"\"\"\n",
    "    with open(filename, 'w', encoding=\"utf-8\") as f:\n",
    "        f.write('\\\\begin{longtable}{' + column_format + '}\\n')\n",
    "        f.write('\\\\caption{' + caption + '}\\\\label{tab:' + filename[:-4] + '}\\\\\\\\\\n')\n",
    "        f.write('\\\\toprule\\n')\n",
    "        \n",
    "        # Escribir el encabezado\n",
    "        if header:\n",
    "            f.write(' & '.join([col.replace('_', '\\\\_') for col in df.columns]))\n",
    "            f.write('\\\\\\\\\\\\midrule\\n')\n",
    "        \n",
    "        f.write('\\\\endfirsthead\\n')\n",
    "        f.write('\\\\multicolumn{' + str(len(df.columns)) + '}{c}{{\\\\bfseries \\\\tablename\\\\ \\\\thetable{} -- '\n",
    "                'Continuación de la página anterior}}\\\\\\\\\\n')\n",
    "        f.write('\\\\toprule\\n')\n",
    "        if header:\n",
    "            f.write(' & '.join([col.replace('_', '\\\\_') for col in df.columns]))\n",
    "            f.write('\\\\\\\\\\\\midrule\\n')\n",
    "        f.write('\\\\endhead\\n')\n",
    "        f.write('\\\\midrule\\n')\n",
    "        f.write('\\\\multicolumn{' + str(len(df.columns)) + '}{r}{{Continúa en la siguiente página}}\\\\\\\\\\n')\n",
    "        f.write('\\\\endfoot\\n')\n",
    "        f.write('\\\\bottomrule\\n')\n",
    "        f.write('\\\\endlastfoot\\n')\n",
    "        \n",
    "        # Escribir los datos\n",
    "        import re\n",
    "        for _, row in df.iterrows():\n",
    "            values = []\n",
    "            for value in row:\n",
    "                if pd.isna(value):\n",
    "                    values.append('')\n",
    "                elif isinstance(value, (int, float)):\n",
    "                    valor = round(value, decimals)\n",
    "                    if re.match(r\"^[-]0\\.0*$\", str(valor)):\n",
    "                        valor = int(valor)\n",
    "                    valor = '{:.{}f}'.format(valor, decimals)\n",
    "                    values.append(valor)\n",
    "                else:\n",
    "                    values.append(str(value))\n",
    "            f.write(' & '.join(values))\n",
    "            f.write('\\\\\\\\\\n')\n",
    "        \n",
    "        f.write('\\\\end{longtable}\\n')\n"
   ]
  },
  {
   "cell_type": "code",
   "execution_count": null,
   "metadata": {},
   "outputs": [],
   "source": [
    "export_to_longtable(df, 'tabla_prueba2.tex', 'Tabla variación interanual e intermnesual', decimals=2) \n"
   ]
  },
  {
   "cell_type": "code",
   "execution_count": null,
   "metadata": {},
   "outputs": [],
   "source": [
    "from datosipc import datosIPC"
   ]
  },
  {
   "cell_type": "code",
   "execution_count": null,
   "metadata": {},
   "outputs": [],
   "source": [
    "prueba = datosIPC(2023, 3, dbBackup=1)"
   ]
  },
  {
   "cell_type": "code",
   "execution_count": null,
   "metadata": {},
   "outputs": [],
   "source": [
    "prueba.serie_fuentes()"
   ]
  },
  {
   "cell_type": "code",
   "execution_count": null,
   "metadata": {},
   "outputs": [],
   "source": [
    "prueba.serie_precios()"
   ]
  },
  {
   "cell_type": "code",
   "execution_count": null,
   "metadata": {},
   "outputs": [],
   "source": [
    "import pandas as pd"
   ]
  },
  {
   "cell_type": "code",
   "execution_count": null,
   "metadata": {},
   "outputs": [],
   "source": [
    "import sqlalchemy as db\n",
    "\n",
    "# Datos servidor\n",
    "DATABASE = 'IPC2010_RN'\n",
    "SERVER = '10.0.0.3'\n",
    "USERNAME = 'lmdelgado'\n",
    "PASSWORD = 'Del/*2022'\n",
    "\n",
    "# Crear la cadena de conexión para SQL Server\n",
    "connection_string = f\"mssql+pyodbc://{USERNAME}:{PASSWORD}@{SERVER}/{DATABASE}?driver=ODBC+Driver+17+for+SQL+Server\"\n",
    "\n",
    "# Crear el objeto 'engine' para conectarse a la base de datos\n",
    "engine = db.create_engine(connection_string)\n",
    "\n",
    "# Establecer conexión con la base de datos\n",
    "conexion = engine.connect()\n"
   ]
  },
  {
   "cell_type": "code",
   "execution_count": null,
   "metadata": {},
   "outputs": [],
   "source": [
    "import pandas as pd\n",
    "import sqlalchemy as db\n",
    "from sqlalchemy.sql import text\n",
    "\n",
    "# Datos servidor\n",
    "DATABASE = 'IPC2010_RN'\n",
    "SERVER = '10.0.0.3'\n",
    "USERNAME = 'lmdelgado'\n",
    "PASSWORD = 'Del/*2022'\n",
    "\n",
    "# Crear la cadena de conexión para SQL Server\n",
    "connection_string = f\"mssql+pyodbc://{USERNAME}:{PASSWORD}@{SERVER}/{DATABASE}?driver=ODBC+Driver+17+for+SQL+Server\"\n",
    "\n",
    "# Crear el objeto 'engine' para conectarse a la base de datos\n",
    "engine = db.create_engine(connection_string)\n",
    "\n",
    "# Ejecutar la consulta y almacenar el resultado en un DataFrame\n",
    "sql = 'SELECT DivCod, DivNom FROM IPCM01'\n",
    "with engine.connect().execution_options(autocommit=True) as conn:\n",
    "    query = conn.execute(text(sql))         \n",
    "df = pd.DataFrame(query)\n"
   ]
  },
  {
   "cell_type": "code",
   "execution_count": null,
   "metadata": {},
   "outputs": [],
   "source": [
    "import pandas as pd\n",
    "import sqlalchemy as db\n",
    "\n",
    "# Datos servidor\n",
    "DATABASE = 'IPC2010_RN'\n",
    "SERVER = '10.0.0.3'\n",
    "USERNAME = 'lmdelgado'\n",
    "PASSWORD = 'Del/*2022'\n",
    "\n",
    "# Crear la cadena de conexión para SQL Server\n",
    "connection_string = f\"mssql+pyodbc://{USERNAME}:{PASSWORD}@{SERVER}/{DATABASE}?driver=ODBC+Driver+17+for+SQL+Server\"\n",
    "\n",
    "# Crear el objeto 'engine' para conectarse a la base de datos\n",
    "engine = db.create_engine(connection_string)\n",
    "\n",
    "# Ejecutar la consulta y almacenar el resultado en un DataFrame\n",
    "query = 'SELECT DivCod, DivNom FROM IPCM01'\n",
    "df_DivNom = pd.read_sql(query, engine)\n"
   ]
  },
  {
   "cell_type": "code",
   "execution_count": null,
   "metadata": {},
   "outputs": [],
   "source": [
    "import pandas as pd\n",
    "import sqlalchemy as db\n",
    "\n",
    "# Datos servidor\n",
    "DATABASE = 'IPC2010_RN'\n",
    "SERVER = '10.0.0.3'\n",
    "USERNAME = 'lmdelgado'\n",
    "PASSWORD = 'Del/*2022'\n",
    "\n",
    "# Crear la cadena de conexión para SQL Server\n",
    "connection_string = f\"mssql+pyodbc://{USERNAME}:{PASSWORD}@{SERVER}/{DATABASE}?driver=ODBC+Driver+17+for+SQL+Server\"\n",
    "\n",
    "# Crear el objeto 'engine' para conectarse a la base de datos\n",
    "engine = db.create_engine(connection_string)\n",
    "\n",
    "# Establecer conexión con la base de datos\n",
    "with engine.connect() as conn:\n",
    "    # Ejecutar la consulta y almacenar el resultado en un DataFrame\n",
    "    query = 'SELECT DivCod, DivNom FROM IPCM01'\n",
    "    df_DivNom = pd.read_sql(query, conn)\n"
   ]
  },
  {
   "cell_type": "code",
   "execution_count": null,
   "metadata": {},
   "outputs": [],
   "source": [
    "import pandas as pd\n",
    "import sqlalchemy as db\n",
    "\n",
    "# Datos servidor\n",
    "DATABASE = 'IPC2010_RN'\n",
    "SERVER = '10.0.0.3'\n",
    "USERNAME = 'lmdelgado'\n",
    "PASSWORD = 'Del/*2022'\n",
    "\n",
    "# Crear la cadena de conexión para SQL Server\n",
    "connection_string = f\"mssql+pyodbc://{USERNAME}:{PASSWORD}@{SERVER}/{DATABASE}?driver=ODBC+Driver+17+for+SQL+Server\"\n",
    "\n",
    "# Crear el objeto 'engine' para conectarse a la base de datos\n",
    "engine = db.create_engine(connection_string)\n",
    "\n",
    "# Establecer conexión con la base de datos\n",
    "with engine.connect() as conn:\n",
    "    # Ejecutar la consulta y almacenar el resultado en un DataFrame\n",
    "    query = db.text('SELECT DivCod, DivNom FROM IPCM01')\n",
    "    df_DivNom = pd.read_sql(query, conn)\n"
   ]
  },
  {
   "cell_type": "code",
   "execution_count": null,
   "metadata": {},
   "outputs": [],
   "source": [
    "from sqline import sqlINE"
   ]
  },
  {
   "cell_type": "code",
   "execution_count": null,
   "metadata": {},
   "outputs": [],
   "source": [
    "p = sqlINE(2023, 3, QdbAux=1)"
   ]
  },
  {
   "cell_type": "code",
   "execution_count": null,
   "metadata": {},
   "outputs": [],
   "source": [
    "indice = 12345.6789\n",
    "precision = 3\n",
    "\n",
    "# Usando el parámetro de precisión en la cadena de formato\n",
    "cadena_formateada = \"{indice:,.{precision}f}\".format(indice=indice, precision=precision)\n",
    "\n",
    "print(cadena_formateada)  # Salida: \"12,345.679\"\n"
   ]
  },
  {
   "cell_type": "code",
   "execution_count": null,
   "metadata": {},
   "outputs": [],
   "source": []
  }
 ],
 "metadata": {
  "kernelspec": {
   "display_name": ".venv",
   "language": "python",
   "name": "python3"
  },
  "language_info": {
   "codemirror_mode": {
    "name": "ipython",
    "version": 3
   },
   "file_extension": ".py",
   "mimetype": "text/x-python",
   "name": "python",
   "nbconvert_exporter": "python",
   "pygments_lexer": "ipython3",
   "version": "3.11.2"
  },
  "orig_nbformat": 4,
  "vscode": {
   "interpreter": {
    "hash": "c9533a7a58296bb07abb4df8f44fef15a78cbc4c9155dea14c4e473dc714b8f5"
   }
  }
 },
 "nbformat": 4,
 "nbformat_minor": 2
}
