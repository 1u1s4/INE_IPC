{
 "cells": [
  {
   "cell_type": "code",
   "execution_count": 1,
   "metadata": {},
   "outputs": [],
   "source": [
    "from datosipc import datosIPC"
   ]
  },
  {
   "cell_type": "code",
   "execution_count": 2,
   "metadata": {},
   "outputs": [],
   "source": [
    "p = datosIPC(2023, 1, dbBackup=True)"
   ]
  },
  {
   "cell_type": "code",
   "execution_count": 3,
   "metadata": {},
   "outputs": [
    {
     "data": {
      "text/plain": [
       "([('Pais', 'Ene-2022', 'Ene-2023'),\n",
       "  ('Guatemala', 2.8682743333109384, 9.690479299986944),\n",
       "  ('El Salvador', 6.489465730287147, 7.028967359545879),\n",
       "  ('Honduras', 6.177056646740664, 8.927613941018775),\n",
       "  ('Nicaragua', 7.68237303670376, 10.92196386427824),\n",
       "  ('Costa Rica', 3.4949190457177037, 7.656922703406854),\n",
       "  ('Republica Dominicana', 8.726424044628288, 7.24071133139037),\n",
       "  ('Panamá', 1.885014964262699, 2.7478745321342757),\n",
       "  ('México', 7.070138825877881, 7.8795274656361824)],\n",
       " 'Para el mes de enero 2023, en Centro América, República Dominicana y México, Nicaragua presentó la mayor tasa de inflación interanual de 10.92%, mientras que Panamá registró la tasa más baja con un nivel de 2.75%.')"
      ]
     },
     "execution_count": 3,
     "metadata": {},
     "output_type": "execute_result"
    }
   ],
   "source": [
    "p.inflacion_CA_RD_MEX()\n"
   ]
  },
  {
   "cell_type": "code",
   "execution_count": 1,
   "metadata": {},
   "outputs": [],
   "source": [
    "from sqline import sqlINE"
   ]
  },
  {
   "cell_type": "code",
   "execution_count": 2,
   "metadata": {},
   "outputs": [],
   "source": [
    "p = sqlINE(2023, 2, dbBackup=1)"
   ]
  },
  {
   "cell_type": "code",
   "execution_count": 10,
   "metadata": {},
   "outputs": [
    {
     "data": {
      "text/plain": [
       "[('Ene-2012', 5.493446573310612),\n",
       " ('Feb-2012', 5.220711707457415),\n",
       " ('Mar-2012', 4.648716348995419),\n",
       " ('Abr-2012', 4.2752072052612),\n",
       " ('May-2012', 3.898090077071803),\n",
       " ('Jun-2012', 3.4720810738378516),\n",
       " ('Jul-2012', 2.8624150293321327),\n",
       " ('Ago-2012', 2.708315549058904),\n",
       " ('Sep-2012', 3.273040500494351),\n",
       " ('Oct-2012', 3.3491101740794615),\n",
       " ('Nov-2012', 3.1122615392777497),\n",
       " ('Dic-2012', 3.4438009354084143),\n",
       " ('Ene-2013', 3.85521675561713),\n",
       " ('Feb-2013', 4.181254131172651),\n",
       " ('Mar-2013', 4.346207567921456),\n",
       " ('Abr-2013', 4.131317623640252),\n",
       " ('May-2013', 4.269815731276871),\n",
       " ('Jun-2013', 4.792666561001746),\n",
       " ('Jul-2013', 4.736416868759696),\n",
       " ('Ago-2013', 4.418096753665135),\n",
       " ('Sep-2013', 4.210974860126404),\n",
       " ('Oct-2013', 4.1522236383634725),\n",
       " ('Nov-2013', 4.627905218407036),\n",
       " ('Dic-2013', 4.386275715984933),\n",
       " ('Ene-2014', 4.148259630962925),\n",
       " ('Feb-2014', 3.5053431575849947),\n",
       " ('Mar-2014', 3.2462041687517207),\n",
       " ('Abr-2014', 3.26503668076783),\n",
       " ('May-2014', 3.225001872656974),\n",
       " ('Jun-2014', 3.135444683433941),\n",
       " ('Jul-2014', 3.41094568640663),\n",
       " ('Ago-2014', 3.6921507308897983),\n",
       " ('Sep-2014', 3.4533237703248565),\n",
       " ('Oct-2014', 3.643273179062345),\n",
       " ('Nov-2014', 3.3804013359331364),\n",
       " ('Dic-2014', 2.953174067421238),\n",
       " ('Ene-2015', 2.313879900066218),\n",
       " ('Feb-2015', 2.435046806478036),\n",
       " ('Mar-2015', 2.426142652209462),\n",
       " ('Abr-2015', 2.5733365700137734),\n",
       " ('May-2015', 2.5499625942551507),\n",
       " ('Jun-2015', 2.381451385966238),\n",
       " ('Jul-2015', 2.325222031429286),\n",
       " ('Ago-2015', 1.9699293234376691),\n",
       " ('Sep-2015', 1.8740182724624521),\n",
       " ('Oct-2015', 2.230788596387301),\n",
       " ('Nov-2015', 2.5057206085059347),\n",
       " ('Dic-2015', 3.0664180104083227),\n",
       " ('Ene-2016', 4.382810700370032),\n",
       " ('Feb-2016', 4.271287422849213),\n",
       " ('Mar-2016', 4.261424853249474),\n",
       " ('Abr-2016', 4.09190889936899),\n",
       " ('May-2016', 4.358293956472181),\n",
       " ('Jun-2016', 4.429587651937328),\n",
       " ('Jul-2016', 4.614770061006945),\n",
       " ('Ago-2016', 4.734542565250011),\n",
       " ('Sep-2016', 4.563884150568831),\n",
       " ('Oct-2016', 4.756133584052136),\n",
       " ('Nov-2016', 4.678700015535986),\n",
       " ('Dic-2016', 4.229897468362331),\n",
       " ('Ene-2017', 3.8233774273826793),\n",
       " ('Feb-2017', 3.9619976634226672),\n",
       " ('Mar-2017', 3.994173802256973),\n",
       " ('Abr-2017', 4.08659257645394),\n",
       " ('May-2017', 3.9316151478681727),\n",
       " ('Jun-2017', 4.371118958863174),\n",
       " ('Jul-2017', 5.2225911151362325),\n",
       " ('Ago-2017', 4.7206091444058185),\n",
       " ('Sep-2017', 4.359660601361215),\n",
       " ('Oct-2017', 4.205962693063547),\n",
       " ('Nov-2017', 4.689122915563448),\n",
       " ('Dic-2017', 5.677415483368997),\n",
       " ('Ene-2018', 4.718907027618946),\n",
       " ('Feb-2018', 4.149991676028875),\n",
       " ('Mar-2018', 4.140247360213833),\n",
       " ('Abr-2018', 3.9213656305720823),\n",
       " ('May-2018', 4.085318207969313),\n",
       " ('Jun-2018', 3.786616645445795),\n",
       " ('Jul-2018', 2.6082457262997627),\n",
       " ('Ago-2018', 3.365564066434179),\n",
       " ('Sep-2018', 4.5516840912745105),\n",
       " ('Oct-2018', 4.331857609315848),\n",
       " ('Nov-2018', 3.1462194780812247),\n",
       " ('Dic-2018', 2.3152274771677916),\n",
       " ('Ene-2019', 4.100951479750958),\n",
       " ('Feb-2019', 4.458358571656795),\n",
       " ('Mar-2019', 4.169300537880405),\n",
       " ('Abr-2019', 4.7494829794271),\n",
       " ('May-2019', 4.5350400806931646),\n",
       " ('Jun-2019', 4.8020939393281115),\n",
       " ('Jul-2019', 4.369101602555059),\n",
       " ('Ago-2019', 3.0071626921077232),\n",
       " ('Sep-2019', 1.8047717127518181),\n",
       " ('Oct-2019', 2.1718153188389877),\n",
       " ('Nov-2019', 2.9234370533594234),\n",
       " ('Dic-2019', 3.3997720056356817),\n",
       " ('Ene-2020', 1.7837943121417288),\n",
       " ('Feb-2020', 1.236029923138049),\n",
       " ('Mar-2020', 1.7697004361360014),\n",
       " ('Abr-2020', 1.8790450024037453),\n",
       " ('May-2020', 1.802974637883592),\n",
       " ('Jun-2020', 2.387738996315636),\n",
       " ('Jul-2020', 2.8781816113514713),\n",
       " ('Ago-2020', 4.193071132020387),\n",
       " ('Sep-2020', 4.962948875544115),\n",
       " ('Oct-2020', 5.345759998244737),\n",
       " ('Nov-2020', 5.46203542095085),\n",
       " ('Dic-2020', 4.829483305732518),\n",
       " ('Ene-2021', 5.2384282879671895),\n",
       " ('Feb-2021', 5.999100318010808),\n",
       " ('Mar-2021', 5.845795987874736),\n",
       " ('Abr-2021', 5.204128524063245),\n",
       " ('May-2021', 5.176800008552518),\n",
       " ('Jun-2021', 3.9102094226766138),\n",
       " ('Jul-2021', 3.811487807458902),\n",
       " ('Ago-2021', 3.6117094390129),\n",
       " ('Sep-2021', 3.674089803956515),\n",
       " ('Oct-2021', 2.954718293185299),\n",
       " ('Nov-2021', 2.882719329652228),\n",
       " ('Dic-2021', 3.066995348328394),\n",
       " ('Ene-2022', 2.8747373953267097),\n",
       " ('Feb-2022', 2.976699611513567),\n",
       " ('Mar-2022', 4.165456149191837),\n",
       " ('Abr-2022', 4.624008061233442),\n",
       " ('May-2022', 5.816212675677246),\n",
       " ('Jun-2022', 7.5508069183491955),\n",
       " ('Jul-2022', 8.360241797920164),\n",
       " ('Ago-2022', 8.874383125115681),\n",
       " ('Sep-2022', 9.032415751947731),\n",
       " ('Oct-2022', 9.707481862406354),\n",
       " ('Nov-2022', 9.173047030638081),\n",
       " ('Dic-2022', 9.231761756958235),\n",
       " ('Ene-2023', 9.685002906879525),\n",
       " ('Feb-2023', 9.920699999743832)]"
      ]
     },
     "execution_count": 10,
     "metadata": {},
     "output_type": "execute_result"
    }
   ],
   "source": [
    "datos = p.serie_historica(\"interanual\")\n",
    "datos"
   ]
  },
  {
   "cell_type": "code",
   "execution_count": 11,
   "metadata": {},
   "outputs": [
    {
     "data": {
      "text/plain": [
       "('Feb-2023', 9.920699999743832)"
      ]
     },
     "execution_count": 11,
     "metadata": {},
     "output_type": "execute_result"
    }
   ],
   "source": [
    "max(datos, key=lambda x: x[1])"
   ]
  },
  {
   "cell_type": "code",
   "execution_count": 12,
   "metadata": {},
   "outputs": [
    {
     "data": {
      "text/plain": [
       "('Feb-2020', 1.236029923138049)"
      ]
     },
     "execution_count": 12,
     "metadata": {},
     "output_type": "execute_result"
    }
   ],
   "source": [
    "min(datos, key=lambda x: x[1])"
   ]
  },
  {
   "cell_type": "code",
   "execution_count": 15,
   "metadata": {},
   "outputs": [],
   "source": [
    "import pandas as pd"
   ]
  },
  {
   "cell_type": "code",
   "execution_count": 25,
   "metadata": {},
   "outputs": [],
   "source": [
    "df1 = pd.DataFrame(p.serie_historica(\"interanual\"), columns=[\"Fecha\", \"interanual\"])"
   ]
  },
  {
   "cell_type": "code",
   "execution_count": 26,
   "metadata": {},
   "outputs": [],
   "source": [
    "df2 = pd.DataFrame(p.serie_historica(\"intermensual\"), columns=[\"Fecha\", \"intermensual\"])"
   ]
  },
  {
   "cell_type": "code",
   "execution_count": 30,
   "metadata": {},
   "outputs": [
    {
     "data": {
      "text/html": [
       "<div>\n",
       "<style scoped>\n",
       "    .dataframe tbody tr th:only-of-type {\n",
       "        vertical-align: middle;\n",
       "    }\n",
       "\n",
       "    .dataframe tbody tr th {\n",
       "        vertical-align: top;\n",
       "    }\n",
       "\n",
       "    .dataframe thead th {\n",
       "        text-align: right;\n",
       "    }\n",
       "</style>\n",
       "<table border=\"1\" class=\"dataframe\">\n",
       "  <thead>\n",
       "    <tr style=\"text-align: right;\">\n",
       "      <th></th>\n",
       "      <th>Fecha</th>\n",
       "      <th>interanual</th>\n",
       "      <th>intermensual</th>\n",
       "    </tr>\n",
       "  </thead>\n",
       "  <tbody>\n",
       "    <tr>\n",
       "      <th>0</th>\n",
       "      <td>Ene-2011</td>\n",
       "      <td>-</td>\n",
       "      <td>0.761897</td>\n",
       "    </tr>\n",
       "    <tr>\n",
       "      <th>1</th>\n",
       "      <td>Feb-2011</td>\n",
       "      <td>-</td>\n",
       "      <td>0.764491</td>\n",
       "    </tr>\n",
       "    <tr>\n",
       "      <th>2</th>\n",
       "      <td>Mar-2011</td>\n",
       "      <td>-</td>\n",
       "      <td>0.868646</td>\n",
       "    </tr>\n",
       "    <tr>\n",
       "      <th>3</th>\n",
       "      <td>Abr-2011</td>\n",
       "      <td>-</td>\n",
       "      <td>0.735185</td>\n",
       "    </tr>\n",
       "    <tr>\n",
       "      <th>4</th>\n",
       "      <td>May-2011</td>\n",
       "      <td>-</td>\n",
       "      <td>0.497378</td>\n",
       "    </tr>\n",
       "    <tr>\n",
       "      <th>...</th>\n",
       "      <td>...</td>\n",
       "      <td>...</td>\n",
       "      <td>...</td>\n",
       "    </tr>\n",
       "    <tr>\n",
       "      <th>141</th>\n",
       "      <td>Oct-2022</td>\n",
       "      <td>9.707482</td>\n",
       "      <td>0.981715</td>\n",
       "    </tr>\n",
       "    <tr>\n",
       "      <th>142</th>\n",
       "      <td>Nov-2022</td>\n",
       "      <td>9.173047</td>\n",
       "      <td>-0.004906</td>\n",
       "    </tr>\n",
       "    <tr>\n",
       "      <th>143</th>\n",
       "      <td>Dic-2022</td>\n",
       "      <td>9.231762</td>\n",
       "      <td>0.228328</td>\n",
       "    </tr>\n",
       "    <tr>\n",
       "      <th>144</th>\n",
       "      <td>Ene-2023</td>\n",
       "      <td>9.685003</td>\n",
       "      <td>0.376934</td>\n",
       "    </tr>\n",
       "    <tr>\n",
       "      <th>145</th>\n",
       "      <td>Feb-2023</td>\n",
       "      <td>9.9207</td>\n",
       "      <td>0.636126</td>\n",
       "    </tr>\n",
       "  </tbody>\n",
       "</table>\n",
       "<p>146 rows × 3 columns</p>\n",
       "</div>"
      ],
      "text/plain": [
       "        Fecha interanual  intermensual\n",
       "0    Ene-2011          -      0.761897\n",
       "1    Feb-2011          -      0.764491\n",
       "2    Mar-2011          -      0.868646\n",
       "3    Abr-2011          -      0.735185\n",
       "4    May-2011          -      0.497378\n",
       "..        ...        ...           ...\n",
       "141  Oct-2022   9.707482      0.981715\n",
       "142  Nov-2022   9.173047     -0.004906\n",
       "143  Dic-2022   9.231762      0.228328\n",
       "144  Ene-2023   9.685003      0.376934\n",
       "145  Feb-2023     9.9207      0.636126\n",
       "\n",
       "[146 rows x 3 columns]"
      ]
     },
     "execution_count": 30,
     "metadata": {},
     "output_type": "execute_result"
    }
   ],
   "source": [
    "df = pd.merge(df1, df2, on=\"Fecha\", how=\"right\").fillna(\"-\")\n",
    "df"
   ]
  },
  {
   "cell_type": "code",
   "execution_count": 31,
   "metadata": {},
   "outputs": [
    {
     "name": "stderr",
     "output_type": "stream",
     "text": [
      "C:\\Users\\laalvarado\\AppData\\Local\\Temp\\ipykernel_15980\\468587983.py:1: FutureWarning: In future versions `DataFrame.to_latex` is expected to utilise the base implementation of `Styler.to_latex` for formatting and rendering. The arguments signature may therefore change. It is recommended instead to use `DataFrame.style.to_latex` which also contains additional functionality.\n",
      "  df.to_latex(\"tabla_prueba.tex\", index=False)\n"
     ]
    }
   ],
   "source": [
    "df.to_latex(\"tabla_prueba.tex\", index=False)"
   ]
  },
  {
   "cell_type": "code",
   "execution_count": 32,
   "metadata": {},
   "outputs": [
    {
     "name": "stderr",
     "output_type": "stream",
     "text": [
      "C:\\Users\\laalvarado\\AppData\\Local\\Temp\\ipykernel_15980\\721903093.py:2: FutureWarning: this method is deprecated in favour of `Styler.hide(axis=\"index\")`\n",
      "  f.write(df.style.hide_index().set_caption('Tabla de prueba').set_table_styles([{'selector': 'caption', 'props': [('text-align', 'center')]}]).to_latex())\n"
     ]
    }
   ],
   "source": [
    "with open('tabla_prueba.tex', 'w') as f:\n",
    "    f.write(df.style.hide_index().set_caption('Tabla de prueba').set_table_styles([{'selector': 'caption', 'props': [('text-align', 'center')]}]).to_latex())"
   ]
  },
  {
   "cell_type": "code",
   "execution_count": 34,
   "metadata": {},
   "outputs": [
    {
     "name": "stderr",
     "output_type": "stream",
     "text": [
      "C:\\Users\\laalvarado\\AppData\\Local\\Temp\\ipykernel_15980\\2776811672.py:2: FutureWarning: In future versions `DataFrame.to_latex` is expected to utilise the base implementation of `Styler.to_latex` for formatting and rendering. The arguments signature may therefore change. It is recommended instead to use `DataFrame.style.to_latex` which also contains additional functionality.\n",
      "  f.write(df.to_latex(index=False, longtable=True, caption='Tabla de prueba', header=[\"Fecha\", \"Mensual\", \"Anual\"],\n"
     ]
    }
   ],
   "source": [
    "with open('tabla_prueba.tex', 'w') as f:\n",
    "    f.write(df.to_latex(index=False, longtable=True, caption='Tabla de prueba', header=[\"Fecha\", \"Mensual\", \"Anual\"], \n",
    "                        column_format='|c|c|c|', escape=False).replace('\\\\hline', '\\\\cline{1-3}').replace('\\\\endfirsthead', '\\\\hline\\n\\\\endhead\\n'))"
   ]
  },
  {
   "cell_type": "code",
   "execution_count": 36,
   "metadata": {},
   "outputs": [
    {
     "name": "stderr",
     "output_type": "stream",
     "text": [
      "C:\\Users\\laalvarado\\AppData\\Local\\Temp\\ipykernel_15980\\1659245302.py:2: FutureWarning: In future versions `DataFrame.to_latex` is expected to utilise the base implementation of `Styler.to_latex` for formatting and rendering. The arguments signature may therefore change. It is recommended instead to use `DataFrame.style.to_latex` which also contains additional functionality.\n",
      "  f.write(df.to_latex(index=False, longtable=True, caption='Tabla de prueba',\n"
     ]
    }
   ],
   "source": [
    "with open('tabla_prueba.tex', 'w') as f:\n",
    "    f.write(df.to_latex(index=False, longtable=True, caption='Tabla de prueba', \n",
    "                        column_format='|c|c|c|', escape=False, \n",
    "                        header=['Fecha', 'Interanual', 'Intermensual']).replace('\\\\hline', '\\\\cline{1-3}').replace('\\\\endfirsthead', '\\\\hline\\n\\\\endhead\\n'))"
   ]
  },
  {
   "cell_type": "code",
   "execution_count": 38,
   "metadata": {},
   "outputs": [
    {
     "name": "stderr",
     "output_type": "stream",
     "text": [
      "C:\\Users\\laalvarado\\AppData\\Local\\Temp\\ipykernel_15980\\580505376.py:4: FutureWarning: In future versions `DataFrame.to_latex` is expected to utilise the base implementation of `Styler.to_latex` for formatting and rendering. The arguments signature may therefore change. It is recommended instead to use `DataFrame.style.to_latex` which also contains additional functionality.\n",
      "  f.write(df.head(1).to_latex(index=False, longtable=False, column_format=column_format, escape=False, header=header).replace('\\\\hline', '\\\\cline{1-2}').replace('\\\\endfirsthead', '\\\\hline\\n\\\\endhead\\n'))\n",
      "C:\\Users\\laalvarado\\AppData\\Local\\Temp\\ipykernel_15980\\580505376.py:5: FutureWarning: In future versions `DataFrame.to_latex` is expected to utilise the base implementation of `Styler.to_latex` for formatting and rendering. The arguments signature may therefore change. It is recommended instead to use `DataFrame.style.to_latex` which also contains additional functionality.\n",
      "  f.write(df.to_latex(index=False, longtable=True, column_format=column_format, escape=False, header=False).replace('\\\\hline', '\\\\cline{1-2}').replace('\\\\endfirsthead', '\\\\hline\\n\\\\endhead\\n'))\n"
     ]
    }
   ],
   "source": [
    "def export_to_longtable(df, filename, caption, column_format='|c|c|', header=True):\n",
    "    with open(filename, 'w+') as f:\n",
    "        if header:\n",
    "            f.write(df.head(1).to_latex(index=False, longtable=False, column_format=column_format, escape=False, header=header).replace('\\\\hline', '\\\\cline{1-2}').replace('\\\\endfirsthead', '\\\\hline\\n\\\\endhead\\n'))\n",
    "        f.write(df.to_latex(index=False, longtable=True, column_format=column_format, escape=False, header=False).replace('\\\\hline', '\\\\cline{1-2}').replace('\\\\endfirsthead', '\\\\hline\\n\\\\endhead\\n'))\n",
    "        f.seek(0)\n",
    "        contents = f.read()\n",
    "        f.seek(0)\n",
    "        f.write('\\\\begin{longtable}{' + column_format + '}\\n')\n",
    "        f.write('\\\\caption{' + caption + '} \\\\\\\\\\n')\n",
    "        f.write('\\\\hline\\n')\n",
    "        f.write(contents)\n",
    "        f.write('\\\\end{longtable}\\n')\n",
    "\n",
    "    \n",
    "export_to_longtable(df, 'tabla_prueba.tex', 'Tabla de prueba')"
   ]
  },
  {
   "cell_type": "code",
   "execution_count": 39,
   "metadata": {},
   "outputs": [],
   "source": [
    "def export_to_longtable(df, filename, caption, column_format='c'*len(df.columns), header=True):\n",
    "    \"\"\"\n",
    "    Exporta un DataFrame a un archivo .tex en formato longtable.\n",
    "    \n",
    "    Parameters:\n",
    "    df (pandas.DataFrame): DataFrame a exportar.\n",
    "    filename (str): Nombre del archivo .tex a crear.\n",
    "    caption (str): Título de la tabla.\n",
    "    column_format (str, optional): Formato de las columnas. Por defecto es 'c'*len(df.columns).\n",
    "    header (bool, optional): Si se incluye la primera fila como encabezado. Por defecto es True.\n",
    "    \"\"\"\n",
    "    with open(filename, 'w') as f:\n",
    "        f.write('\\\\begin{longtable}{' + column_format + '}\\n')\n",
    "        if header:\n",
    "            f.write('\\\\caption{' + caption + '}\\\\label{' + filename[:-4] + '-label}\\\\tabularnewline\\n')\n",
    "            f.write('\\\\toprule\\n')\n",
    "            for col in df.columns:\n",
    "                f.write('\\\\textbf{' + col + '}')\n",
    "                if col != df.columns[-1]:\n",
    "                    f.write(' & ')\n",
    "                else:\n",
    "                    f.write(' \\\\\\\\\\n')\n",
    "            f.write('\\\\midrule\\n')\n",
    "            f.write('\\\\endfirsthead\\n')\n",
    "            f.write('\\\\multicolumn{' + str(len(df.columns)) + '}{c}{{Tabla \\\\thetable{} continuación de la página anterior.}} \\\\\\\\\\n')\n",
    "            f.write('\\\\toprule\\n')\n",
    "            for col in df.columns:\n",
    "                f.write('\\\\textbf{' + col + '}')\n",
    "                if col != df.columns[-1]:\n",
    "                    f.write(' & ')\n",
    "                else:\n",
    "                    f.write(' \\\\\\\\\\n')\n",
    "            f.write('\\\\midrule\\n')\n",
    "            f.write('\\\\endhead\\n')\n",
    "        else:\n",
    "            f.write('\\\\caption{' + caption + '}\\\\label{' + filename[:-4] + '-label}\\\\tabularnewline\\n')\n",
    "            f.write('\\\\toprule\\n')\n",
    "        for i, row in df.iterrows():\n",
    "            for j, val in enumerate(row):\n",
    "                if pd.isna(val):\n",
    "                    val = '-'\n",
    "                if isinstance(val, float):\n",
    "                    f.write('{:.6f}'.format(val))\n",
    "                else:\n",
    "                    f.write(str(val))\n",
    "                if j != len(row) - 1:\n",
    "                    f.write(' & ')\n",
    "                else:\n",
    "                    f.write(' \\\\\\\\\\n')\n",
    "            f.write('\\\\midrule\\n')\n",
    "        f.write('\\\\end{longtable}\\n')\n"
   ]
  },
  {
   "cell_type": "code",
   "execution_count": 80,
   "metadata": {},
   "outputs": [],
   "source": [
    "def export_to_longtable(df, filename, caption, column_format='c'*len(df.columns), header=True, decimals=2):\n",
    "    \"\"\"\n",
    "    Exporta un dataframe a un longtable de LaTeX en un archivo.\n",
    "    \n",
    "    Parameters:\n",
    "    df (pandas.DataFrame): DataFrame a exportar.\n",
    "    filename (str): Nombre del archivo a guardar.\n",
    "    caption (str): Leyenda de la tabla.\n",
    "    column_format (str): Cadena que describe el formato de las columnas.\n",
    "    header (bool): Si True, muestra el encabezado de la tabla.\n",
    "    decimals (int): Cantidad de decimales para los números. Si el valor no es numérico, se muestra tal cual.\n",
    "    \"\"\"\n",
    "    with open(filename, 'w', encoding=\"utf-8\") as f:\n",
    "        f.write('\\\\begin{longtable}{' + column_format + '}\\n')\n",
    "        f.write('\\\\caption{' + caption + '}\\\\label{tab:' + filename[:-4] + '}\\\\\\\\\\n')\n",
    "        f.write('\\\\toprule\\n')\n",
    "        \n",
    "        # Escribir el encabezado\n",
    "        if header:\n",
    "            f.write(' & '.join([col.replace('_', '\\\\_') for col in df.columns]))\n",
    "            f.write('\\\\\\\\\\\\midrule\\n')\n",
    "        \n",
    "        f.write('\\\\endfirsthead\\n')\n",
    "        f.write('\\\\multicolumn{' + str(len(df.columns)) + '}{c}{{\\\\bfseries \\\\tablename\\\\ \\\\thetable{} -- '\n",
    "                'Continuación de la página anterior}}\\\\\\\\\\n')\n",
    "        f.write('\\\\toprule\\n')\n",
    "        if header:\n",
    "            f.write(' & '.join([col.replace('_', '\\\\_') for col in df.columns]))\n",
    "            f.write('\\\\\\\\\\\\midrule\\n')\n",
    "        f.write('\\\\endhead\\n')\n",
    "        f.write('\\\\midrule\\n')\n",
    "        f.write('\\\\multicolumn{' + str(len(df.columns)) + '}{r}{{Continúa en la siguiente página}}\\\\\\\\\\n')\n",
    "        f.write('\\\\endfoot\\n')\n",
    "        f.write('\\\\bottomrule\\n')\n",
    "        f.write('\\\\endlastfoot\\n')\n",
    "        \n",
    "        # Escribir los datos\n",
    "        from math import copysign\n",
    "        for _, row in df.iterrows():\n",
    "            values = []\n",
    "            for value in row:\n",
    "                if pd.isna(value):\n",
    "                    values.append('')\n",
    "                elif isinstance(value, (int, float)):\n",
    "                    valor = round(value, decimals)\n",
    "                    if str(valor).replace('.', '') == '0' * decimals:\n",
    "                        valor = int(valor)\n",
    "                    valor = '{:.{}f}'.format(valor, decimals)\n",
    "                    values.append(valor)\n",
    "                else:\n",
    "                    values.append(str(value))\n",
    "            f.write(' & '.join(values))\n",
    "            f.write('\\\\\\\\\\n')\n",
    "        \n",
    "        f.write('\\\\end{longtable}\\n')\n"
   ]
  },
  {
   "cell_type": "code",
   "execution_count": 81,
   "metadata": {},
   "outputs": [],
   "source": [
    "export_to_longtable(df, 'tabla_prueba2.tex', 'Tabla variación interanual e intermnesual', decimals=3) \n"
   ]
  },
  {
   "cell_type": "code",
   "execution_count": null,
   "metadata": {},
   "outputs": [],
   "source": []
  }
 ],
 "metadata": {
  "kernelspec": {
   "display_name": "Python 3",
   "language": "python",
   "name": "python3"
  },
  "language_info": {
   "codemirror_mode": {
    "name": "ipython",
    "version": 3
   },
   "file_extension": ".py",
   "mimetype": "text/x-python",
   "name": "python",
   "nbconvert_exporter": "python",
   "pygments_lexer": "ipython3",
   "version": "3.11.2"
  },
  "orig_nbformat": 4,
  "vscode": {
   "interpreter": {
    "hash": "549303601b1024b9e300ce5f29c6b94d02e3162278eab942e2a1b6577abca927"
   }
  }
 },
 "nbformat": 4,
 "nbformat_minor": 2
}
