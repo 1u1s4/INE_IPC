{
 "cells": [
  {
   "cell_type": "code",
   "execution_count": null,
   "metadata": {},
   "outputs": [],
   "source": [
    "from datosipc import datosIPC"
   ]
  },
  {
   "cell_type": "code",
   "execution_count": null,
   "metadata": {},
   "outputs": [],
   "source": [
    "p = datosIPC(2023, 1, dbBackup=True)"
   ]
  },
  {
   "cell_type": "code",
   "execution_count": null,
   "metadata": {},
   "outputs": [],
   "source": [
    "p.inflacion_CA_RD_MEX()\n"
   ]
  },
  {
   "cell_type": "code",
   "execution_count": null,
   "metadata": {},
   "outputs": [],
   "source": [
    "from sqline import sqlINE"
   ]
  },
  {
   "cell_type": "code",
   "execution_count": null,
   "metadata": {},
   "outputs": [],
   "source": [
    "p = sqlINE(2023, 2, dbBackup=1)"
   ]
  },
  {
   "cell_type": "code",
   "execution_count": null,
   "metadata": {},
   "outputs": [],
   "source": [
    "datos = p.serie_historica(\"interanual\")\n",
    "datos"
   ]
  },
  {
   "cell_type": "code",
   "execution_count": null,
   "metadata": {},
   "outputs": [],
   "source": [
    "max(datos, key=lambda x: x[1])"
   ]
  },
  {
   "cell_type": "code",
   "execution_count": null,
   "metadata": {},
   "outputs": [],
   "source": [
    "min(datos, key=lambda x: x[1])"
   ]
  },
  {
   "cell_type": "code",
   "execution_count": null,
   "metadata": {},
   "outputs": [],
   "source": [
    "import pandas as pd"
   ]
  },
  {
   "cell_type": "code",
   "execution_count": null,
   "metadata": {},
   "outputs": [],
   "source": [
    "df1 = pd.DataFrame(p.serie_historica(\"interanual\"), columns=[\"Fecha\", \"interanual\"])"
   ]
  },
  {
   "cell_type": "code",
   "execution_count": null,
   "metadata": {},
   "outputs": [],
   "source": [
    "df2 = pd.DataFrame(p.serie_historica(\"intermensual\"), columns=[\"Fecha\", \"intermensual\"])"
   ]
  },
  {
   "cell_type": "code",
   "execution_count": null,
   "metadata": {},
   "outputs": [],
   "source": [
    "df = pd.merge(df1, df2, on=\"Fecha\", how=\"right\").fillna(\"-\")\n",
    "df"
   ]
  },
  {
   "cell_type": "code",
   "execution_count": null,
   "metadata": {},
   "outputs": [],
   "source": [
    "df.to_latex(\"tabla_prueba.tex\", index=False)"
   ]
  },
  {
   "cell_type": "code",
   "execution_count": null,
   "metadata": {},
   "outputs": [],
   "source": [
    "with open('tabla_prueba.tex', 'w') as f:\n",
    "    f.write(df.style.hide_index().set_caption('Tabla de prueba').set_table_styles([{'selector': 'caption', 'props': [('text-align', 'center')]}]).to_latex())"
   ]
  },
  {
   "cell_type": "code",
   "execution_count": null,
   "metadata": {},
   "outputs": [],
   "source": [
    "with open('tabla_prueba.tex', 'w') as f:\n",
    "    f.write(df.to_latex(index=False, longtable=True, caption='Tabla de prueba', header=[\"Fecha\", \"Mensual\", \"Anual\"], \n",
    "                        column_format='|c|c|c|', escape=False).replace('\\\\hline', '\\\\cline{1-3}').replace('\\\\endfirsthead', '\\\\hline\\n\\\\endhead\\n'))"
   ]
  },
  {
   "cell_type": "code",
   "execution_count": null,
   "metadata": {},
   "outputs": [],
   "source": [
    "with open('tabla_prueba.tex', 'w') as f:\n",
    "    f.write(df.to_latex(index=False, longtable=True, caption='Tabla de prueba', \n",
    "                        column_format='|c|c|c|', escape=False, \n",
    "                        header=['Fecha', 'Interanual', 'Intermensual']).replace('\\\\hline', '\\\\cline{1-3}').replace('\\\\endfirsthead', '\\\\hline\\n\\\\endhead\\n'))"
   ]
  },
  {
   "cell_type": "code",
   "execution_count": null,
   "metadata": {},
   "outputs": [],
   "source": [
    "def export_to_longtable(df, filename, caption, column_format='|c|c|', header=True):\n",
    "    with open(filename, 'w+') as f:\n",
    "        if header:\n",
    "            f.write(df.head(1).to_latex(index=False, longtable=False, column_format=column_format, escape=False, header=header).replace('\\\\hline', '\\\\cline{1-2}').replace('\\\\endfirsthead', '\\\\hline\\n\\\\endhead\\n'))\n",
    "        f.write(df.to_latex(index=False, longtable=True, column_format=column_format, escape=False, header=False).replace('\\\\hline', '\\\\cline{1-2}').replace('\\\\endfirsthead', '\\\\hline\\n\\\\endhead\\n'))\n",
    "        f.seek(0)\n",
    "        contents = f.read()\n",
    "        f.seek(0)\n",
    "        f.write('\\\\begin{longtable}{' + column_format + '}\\n')\n",
    "        f.write('\\\\caption{' + caption + '} \\\\\\\\\\n')\n",
    "        f.write('\\\\hline\\n')\n",
    "        f.write(contents)\n",
    "        f.write('\\\\end{longtable}\\n')\n",
    "\n",
    "    \n",
    "export_to_longtable(df, 'tabla_prueba.tex', 'Tabla de prueba')"
   ]
  },
  {
   "cell_type": "code",
   "execution_count": null,
   "metadata": {},
   "outputs": [],
   "source": [
    "def export_to_longtable(df, filename, caption, column_format='c'*len(df.columns), header=True):\n",
    "    \"\"\"\n",
    "    Exporta un DataFrame a un archivo .tex en formato longtable.\n",
    "    \n",
    "    Parameters:\n",
    "    df (pandas.DataFrame): DataFrame a exportar.\n",
    "    filename (str): Nombre del archivo .tex a crear.\n",
    "    caption (str): Título de la tabla.\n",
    "    column_format (str, optional): Formato de las columnas. Por defecto es 'c'*len(df.columns).\n",
    "    header (bool, optional): Si se incluye la primera fila como encabezado. Por defecto es True.\n",
    "    \"\"\"\n",
    "    with open(filename, 'w') as f:\n",
    "        f.write('\\\\begin{longtable}{' + column_format + '}\\n')\n",
    "        if header:\n",
    "            f.write('\\\\caption{' + caption + '}\\\\label{' + filename[:-4] + '-label}\\\\tabularnewline\\n')\n",
    "            f.write('\\\\toprule\\n')\n",
    "            for col in df.columns:\n",
    "                f.write('\\\\textbf{' + col + '}')\n",
    "                if col != df.columns[-1]:\n",
    "                    f.write(' & ')\n",
    "                else:\n",
    "                    f.write(' \\\\\\\\\\n')\n",
    "            f.write('\\\\midrule\\n')\n",
    "            f.write('\\\\endfirsthead\\n')\n",
    "            f.write('\\\\multicolumn{' + str(len(df.columns)) + '}{c}{{Tabla \\\\thetable{} continuación de la página anterior.}} \\\\\\\\\\n')\n",
    "            f.write('\\\\toprule\\n')\n",
    "            for col in df.columns:\n",
    "                f.write('\\\\textbf{' + col + '}')\n",
    "                if col != df.columns[-1]:\n",
    "                    f.write(' & ')\n",
    "                else:\n",
    "                    f.write(' \\\\\\\\\\n')\n",
    "            f.write('\\\\midrule\\n')\n",
    "            f.write('\\\\endhead\\n')\n",
    "        else:\n",
    "            f.write('\\\\caption{' + caption + '}\\\\label{' + filename[:-4] + '-label}\\\\tabularnewline\\n')\n",
    "            f.write('\\\\toprule\\n')\n",
    "        for i, row in df.iterrows():\n",
    "            for j, val in enumerate(row):\n",
    "                if pd.isna(val):\n",
    "                    val = '-'\n",
    "                if isinstance(val, float):\n",
    "                    f.write('{:.6f}'.format(val))\n",
    "                else:\n",
    "                    f.write(str(val))\n",
    "                if j != len(row) - 1:\n",
    "                    f.write(' & ')\n",
    "                else:\n",
    "                    f.write(' \\\\\\\\\\n')\n",
    "            f.write('\\\\midrule\\n')\n",
    "        f.write('\\\\end{longtable}\\n')\n"
   ]
  },
  {
   "cell_type": "code",
   "execution_count": null,
   "metadata": {},
   "outputs": [],
   "source": [
    "def export_to_longtable(df, filename, caption, column_format='c'*len(df.columns), header=True, decimals=2):\n",
    "    \"\"\"\n",
    "    Exporta un dataframe a un longtable de LaTeX en un archivo.\n",
    "    \n",
    "    Parameters:\n",
    "    df (pandas.DataFrame): DataFrame a exportar.\n",
    "    filename (str): Nombre del archivo a guardar.\n",
    "    caption (str): Leyenda de la tabla.\n",
    "    column_format (str): Cadena que describe el formato de las columnas.\n",
    "    header (bool): Si True, muestra el encabezado de la tabla.\n",
    "    decimals (int): Cantidad de decimales para los números. Si el valor no es numérico, se muestra tal cual.\n",
    "    \"\"\"\n",
    "    with open(filename, 'w', encoding=\"utf-8\") as f:\n",
    "        f.write('\\\\begin{longtable}{' + column_format + '}\\n')\n",
    "        f.write('\\\\caption{' + caption + '}\\\\label{tab:' + filename[:-4] + '}\\\\\\\\\\n')\n",
    "        f.write('\\\\toprule\\n')\n",
    "        \n",
    "        # Escribir el encabezado\n",
    "        if header:\n",
    "            f.write(' & '.join([col.replace('_', '\\\\_') for col in df.columns]))\n",
    "            f.write('\\\\\\\\\\\\midrule\\n')\n",
    "        \n",
    "        f.write('\\\\endfirsthead\\n')\n",
    "        f.write('\\\\multicolumn{' + str(len(df.columns)) + '}{c}{{\\\\bfseries \\\\tablename\\\\ \\\\thetable{} -- '\n",
    "                'Continuación de la página anterior}}\\\\\\\\\\n')\n",
    "        f.write('\\\\toprule\\n')\n",
    "        if header:\n",
    "            f.write(' & '.join([col.replace('_', '\\\\_') for col in df.columns]))\n",
    "            f.write('\\\\\\\\\\\\midrule\\n')\n",
    "        f.write('\\\\endhead\\n')\n",
    "        f.write('\\\\midrule\\n')\n",
    "        f.write('\\\\multicolumn{' + str(len(df.columns)) + '}{r}{{Continúa en la siguiente página}}\\\\\\\\\\n')\n",
    "        f.write('\\\\endfoot\\n')\n",
    "        f.write('\\\\bottomrule\\n')\n",
    "        f.write('\\\\endlastfoot\\n')\n",
    "        \n",
    "        # Escribir los datos\n",
    "        import re\n",
    "        for _, row in df.iterrows():\n",
    "            values = []\n",
    "            for value in row:\n",
    "                if pd.isna(value):\n",
    "                    values.append('')\n",
    "                elif isinstance(value, (int, float)):\n",
    "                    valor = round(value, decimals)\n",
    "                    if re.match(r\"^[-]0\\.0*$\", str(valor)):\n",
    "                        valor = int(valor)\n",
    "                    valor = '{:.{}f}'.format(valor, decimals)\n",
    "                    values.append(valor)\n",
    "                else:\n",
    "                    values.append(str(value))\n",
    "            f.write(' & '.join(values))\n",
    "            f.write('\\\\\\\\\\n')\n",
    "        \n",
    "        f.write('\\\\end{longtable}\\n')\n"
   ]
  },
  {
   "cell_type": "code",
   "execution_count": null,
   "metadata": {},
   "outputs": [],
   "source": [
    "export_to_longtable(df, 'tabla_prueba2.tex', 'Tabla variación interanual e intermnesual', decimals=2) \n"
   ]
  },
  {
   "cell_type": "code",
   "execution_count": 1,
   "metadata": {},
   "outputs": [],
   "source": [
    "from datosipc import datosIPC"
   ]
  },
  {
   "cell_type": "code",
   "execution_count": 3,
   "metadata": {},
   "outputs": [],
   "source": [
    "prueba = datosIPC(2023, 3, dbBackup=1)"
   ]
  },
  {
   "cell_type": "code",
   "execution_count": 5,
   "metadata": {},
   "outputs": [
    {
     "data": {
      "text/plain": [
       "([('Mar-2022', 6665),\n",
       "  ('Abr-2022', 6683),\n",
       "  ('May-2022', 6020),\n",
       "  ('Jun-2022', 6733),\n",
       "  ('Jul-2022', 7115),\n",
       "  ('Ago-2022', 6090),\n",
       "  ('Sep-2022', 6777),\n",
       "  ('Oct-2022', 7004),\n",
       "  ('Nov-2022', 7165),\n",
       "  ('Dic-2022', 7721),\n",
       "  ('Ene-2023', 8631),\n",
       "  ('Feb-2023', 8067),\n",
       "  ('Mar-2023', 8531)],\n",
       " 'La cantidad de fuentes consultadas en marzo 2023 es de 8,531. La mayor cantidad de fuentes consultadas fue en el mes de enero 2023 con una cantidad de 8,631 y la menor se encuentra en el mes de mayo 2022 con una cantidad de 6,020.')"
      ]
     },
     "execution_count": 5,
     "metadata": {},
     "output_type": "execute_result"
    }
   ],
   "source": [
    "prueba.serie_fuentes()"
   ]
  },
  {
   "cell_type": "code",
   "execution_count": 6,
   "metadata": {},
   "outputs": [
    {
     "data": {
      "text/plain": [
       "([('Mar-2022', 34061),\n",
       "  ('Abr-2022', 33671),\n",
       "  ('May-2022', 31533),\n",
       "  ('Jun-2022', 34240),\n",
       "  ('Jul-2022', 34901),\n",
       "  ('Ago-2022', 32351),\n",
       "  ('Sep-2022', 35369),\n",
       "  ('Oct-2022', 35894),\n",
       "  ('Nov-2022', 38208),\n",
       "  ('Dic-2022', 41557),\n",
       "  ('Ene-2023', 44692),\n",
       "  ('Feb-2023', 44106),\n",
       "  ('Mar-2023', 46054)],\n",
       " 'La cantidad de precios diligenciados en marzo 2023 es de 46,054. La mayor cantidad de precios diligenciados fue en el mes de marzo 2023 con una cantidad de 46,054 y la menor se encuentra en el mes de mayo 2022 con una cantidad de 31,533.')"
      ]
     },
     "execution_count": 6,
     "metadata": {},
     "output_type": "execute_result"
    }
   ],
   "source": [
    "prueba.serie_precios()"
   ]
  },
  {
   "cell_type": "code",
   "execution_count": null,
   "metadata": {},
   "outputs": [],
   "source": []
  }
 ],
 "metadata": {
  "kernelspec": {
   "display_name": "Python 3",
   "language": "python",
   "name": "python3"
  },
  "language_info": {
   "codemirror_mode": {
    "name": "ipython",
    "version": 3
   },
   "file_extension": ".py",
   "mimetype": "text/x-python",
   "name": "python",
   "nbconvert_exporter": "python",
   "pygments_lexer": "ipython3",
   "version": "3.11.2"
  },
  "orig_nbformat": 4,
  "vscode": {
   "interpreter": {
    "hash": "549303601b1024b9e300ce5f29c6b94d02e3162278eab942e2a1b6577abca927"
   }
  }
 },
 "nbformat": 4,
 "nbformat_minor": 2
}
