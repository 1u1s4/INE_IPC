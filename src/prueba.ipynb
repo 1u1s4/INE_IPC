{
 "cells": [
  {
   "cell_type": "code",
   "execution_count": 1,
   "metadata": {},
   "outputs": [],
   "source": [
    "from datosipc import datosIPC"
   ]
  },
  {
   "cell_type": "code",
   "execution_count": 2,
   "metadata": {},
   "outputs": [],
   "source": [
    "p = datosIPC(2023, 1, dbBackup=True)"
   ]
  },
  {
   "cell_type": "code",
   "execution_count": 3,
   "metadata": {},
   "outputs": [
    {
     "data": {
      "text/plain": [
       "([('Pais', 'Ene-2022', 'Ene-2023'),\n",
       "  ('Guatemala', 2.8682743333109384, 9.690479299986944),\n",
       "  ('El Salvador', 6.489465730287147, 7.028967359545879),\n",
       "  ('Honduras', 6.177056646740664, 8.927613941018775),\n",
       "  ('Nicaragua', 7.68237303670376, 10.92196386427824),\n",
       "  ('Costa Rica', 3.4949190457177037, 7.656922703406854),\n",
       "  ('Republica Dominicana', 8.726424044628288, 7.24071133139037),\n",
       "  ('Panamá', 1.885014964262699, 2.7478745321342757),\n",
       "  ('México', 7.070138825877881, 7.8795274656361824)],\n",
       " 'Para el mes de enero 2023, en Centro América, República Dominicana y México, Nicaragua presentó la mayor tasa de inflación interanual de 10.92%, mientras que Panamá registró la tasa más baja con un nivel de 2.75%.')"
      ]
     },
     "execution_count": 3,
     "metadata": {},
     "output_type": "execute_result"
    }
   ],
   "source": [
    "p.inflacion_CA_RD_MEX()\n"
   ]
  }
 ],
 "metadata": {
  "kernelspec": {
   "display_name": "Python 3",
   "language": "python",
   "name": "python3"
  },
  "language_info": {
   "codemirror_mode": {
    "name": "ipython",
    "version": 3
   },
   "file_extension": ".py",
   "mimetype": "text/x-python",
   "name": "python",
   "nbconvert_exporter": "python",
   "pygments_lexer": "ipython3",
   "version": "3.11.2"
  },
  "orig_nbformat": 4,
  "vscode": {
   "interpreter": {
    "hash": "549303601b1024b9e300ce5f29c6b94d02e3162278eab942e2a1b6577abca927"
   }
  }
 },
 "nbformat": 4,
 "nbformat_minor": 2
}
